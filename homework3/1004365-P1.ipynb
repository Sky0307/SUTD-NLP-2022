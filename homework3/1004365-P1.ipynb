{
 "cells": [
  {
   "cell_type": "markdown",
   "metadata": {
    "colab_type": "text",
    "id": "ok9xpaI-uyUT"
   },
   "source": [
    "![sutd](sutd.png)\n",
    "## <center>50.040 Natural Language Processing, Summer 2022<center>\n",
    "<center>**Homework 3**\n",
    "\n",
    "<center>**Due 29 July 2022, 5pm** <center>"
   ]
  },
  {
   "cell_type": "markdown",
   "metadata": {
    "colab_type": "text",
    "id": "WHLjIQokuyUV"
   },
   "source": [
    "**Write your student ID and name**\n",
    "\n",
    "ID: 1004365\n",
    "\n",
    "Name: Lee Jet Xuen\n",
    "\n",
    "Students whom you have discussed with (if any):    \n",
    "Brandon Chong 1004104      \n",
    "Tay Sze Chang 1004301"
   ]
  },
  {
   "cell_type": "markdown",
   "metadata": {
    "colab_type": "text",
    "id": "F7rJYYMnuyUW"
   },
   "source": [
    "### Requirements:\n",
    "- Use Python to complete this homework.\n",
    "- Follow the honor code strictly."
   ]
  },
  {
   "cell_type": "markdown",
   "metadata": {
    "colab_type": "text",
    "id": "joGu6trB8RRN"
   },
   "source": [
    "In this homework, we'll implement ``IBM Model 1`` using the ``expectation-maximization (EM)`` algorithm. We need to estimate the  translation probabilities  $t(f|e)$ on a parallel corpus, where $e$ is a word from the English sentences and $f$ is a word from the corresponding foreign sentences. \n",
    "\n",
    "Note that there's a constraint for such probabilities:\n",
    "$$\\sum_f t(f|e)=1,  \\ \\ \\ t(f|e)\\geq 0 \\ \\quad (1)$$\n",
    "\n",
    "**We'll use this constraint when initializing the translation probabilities in subsequent tasks.**"
   ]
  },
  {
   "cell_type": "markdown",
   "metadata": {
    "colab_type": "text",
    "id": "stJOvS_A8RRO"
   },
   "source": [
    "## Data\n",
    "We'll use the English-French parallel corpus under the folder ``data/en-fr``, which contains a set of translation instances. As can be seen below each instance consists of an English-French sentence pair (note that we are translating from French into English, but as we discussed in class, when working on the translation model using IBM model 1, we are interested in generating French from English).\n",
    "\n",
    "\n",
    "\n",
    "    Hop in.\tMontez.\n",
    "    Hug me.\tSerre-moi dans tes bras !\n",
    "    I left.\tJe suis parti.\n",
    "\n",
    "The dataset is obtained from [MXNET](http://data.mxnet.io/data/fra-eng.zip). Please run the provided code below to obtain the preprocessed English sentences and French sentences. Do not perform any further preprocessing. \n"
   ]
  },
  {
   "cell_type": "code",
   "execution_count": 1,
   "metadata": {},
   "outputs": [],
   "source": [
    "import seaborn as sns\n",
    "import numpy as np\n",
    "from time import time\n",
    "from collections import Counter, defaultdict\n",
    "import itertools\n",
    "\n",
    "from matplotlib import pyplot as plt\n",
    "%matplotlib inline"
   ]
  },
  {
   "cell_type": "markdown",
   "metadata": {},
   "source": [
    "# Part 1: Statistical Machine Translation \\[25 points]"
   ]
  },
  {
   "cell_type": "code",
   "execution_count": 2,
   "metadata": {
    "colab": {},
    "colab_type": "code",
    "id": "soTtZXt68RRT"
   },
   "outputs": [],
   "source": [
    "path = 'data/part1/en-fr.txt'\n",
    "with open(path, 'r', encoding='utf8') as f:\n",
    "    raw_text = f.read()\n",
    "\n",
    "#Original code from \n",
    "#https://www.d2l.ai/chapter_recurrent-neural-networks\n",
    "def preprocess_nmt(text):\n",
    "    '''\n",
    "    Arg:\n",
    "        text: parallel text, string\n",
    "    Return:\n",
    "        out: preprocessed text, string\n",
    "    '''\n",
    "    text = text.replace('\\u202f', ' ').replace('\\xa0', ' ')\n",
    "    no_space = lambda char, prev_char: (\n",
    "        True if char in (',', '!', '.') and prev_char != ' ' else False)\n",
    "    out = [' '+char if i > 0 and no_space(char, text[i-1]) else char\n",
    "           for i, char in enumerate(text.lower())]\n",
    "    out = ''.join(out)\n",
    "    return out\n",
    "\n",
    "def tokenize_nmt(text, num_examples = None):\n",
    "    '''\n",
    "    Args:\n",
    "        text: parallel text, string\n",
    "        num_examples: number of examples to be selected, int\n",
    "    Returns:\n",
    "        left: English sentences, list\n",
    "        right: French sentences, list\n",
    "    '''\n",
    "    left, right = [], []\n",
    "    for i, line in enumerate(text.split('\\n')):\n",
    "        if num_examples and i > num_examples: break\n",
    "        parts = line.split('\\t')\n",
    "        if len(parts) == 2:\n",
    "            left.append(parts[0].split(' '))\n",
    "            right.append(parts[1].split(' '))\n",
    "    return left, right\n"
   ]
  },
  {
   "cell_type": "code",
   "execution_count": 3,
   "metadata": {
    "colab": {},
    "colab_type": "code",
    "id": "oOUt-g3B8RRV"
   },
   "outputs": [],
   "source": [
    "#English sentences and corresponding French sentences\n",
    "#Each sentence has been preprocessed and tokenized\n",
    "text = preprocess_nmt(raw_text)\n",
    "english_sents, french_sents = tokenize_nmt(text)"
   ]
  },
  {
   "cell_type": "code",
   "execution_count": 4,
   "metadata": {
    "scrolled": true
   },
   "outputs": [
    {
     "data": {
      "text/plain": [
       "([['go', '.'],\n",
       "  ['hi', '.'],\n",
       "  ['run', '!'],\n",
       "  ['run', '!'],\n",
       "  ['who?'],\n",
       "  ['wow', '!'],\n",
       "  ['fire', '!'],\n",
       "  ['help', '!'],\n",
       "  ['jump', '.'],\n",
       "  ['stop', '!']],\n",
       " [['va', '!'],\n",
       "  ['salut', '!'],\n",
       "  ['cours', '!'],\n",
       "  ['courez', '!'],\n",
       "  ['qui', '?'],\n",
       "  ['ça', 'alors', '!'],\n",
       "  ['au', 'feu', '!'],\n",
       "  ['à', \"l'aide\", '!'],\n",
       "  ['saute', '.'],\n",
       "  ['ça', 'suffit', '!']])"
      ]
     },
     "execution_count": 4,
     "metadata": {},
     "output_type": "execute_result"
    }
   ],
   "source": [
    "english_sents[:10], french_sents[:10]"
   ]
  },
  {
   "cell_type": "markdown",
   "metadata": {
    "colab_type": "text",
    "id": "YCTLIntg8RRX"
   },
   "source": [
    "\n",
    "### Quesiton 1 (3 points)\n",
    "1. Implement ``word_pairs_in_corpus`` which finds out all the possible word pairs (alignments) $(e, f)$ that appear in all the instances of the English-French dataset ``english_sents``, ``french_sents``. Note that we need to pad each English sentence with the special token \"NULL\" at the beginning.\n",
    "2. List down the 10 most frequent pairs. (Run the code we provide for you.) \n",
    "3. Count the number of unique pairs. (Run the code we provide for you.) "
   ]
  },
  {
   "cell_type": "code",
   "execution_count": 5,
   "metadata": {},
   "outputs": [],
   "source": [
    "def word_pairs_in_corpus(en_sents, fr_sents):\n",
    "    '''\n",
    "    params:\n",
    "        en_sents: list[list[str]]\n",
    "        fr_sents: list[list[str]]\n",
    "    return:\n",
    "        align_counts: Dict()--- key: (english_word, french_word), value: counts of the word pair in the corpus\n",
    "    '''\n",
    "    align_counts = None\n",
    "    # YOUR CODE HERE\n",
    "    word_alignments = []\n",
    "    \n",
    "    for en_words, fr_words in zip(en_sents, fr_sents):\n",
    "        word_pair = list(itertools.product(en_words, fr_words))\n",
    "        \n",
    "        word_alignments.extend(word_pair)\n",
    "    \n",
    "    align_counts = Counter(word_alignments)\n",
    "    # END OF YOUR CODE\n",
    "    return align_counts"
   ]
  },
  {
   "cell_type": "code",
   "execution_count": 6,
   "metadata": {
    "scrolled": false
   },
   "outputs": [
    {
     "data": {
      "text/plain": [
       "[(('.', '.'), 136734),\n",
       " (('NULL', '.'), 135221),\n",
       " (('i', '.'), 43189),\n",
       " (('NULL', 'je'), 39821),\n",
       " (('.', 'je'), 39096),\n",
       " (('NULL', 'de'), 35073),\n",
       " (('i', 'je'), 34415),\n",
       " (('to', '.'), 31647),\n",
       " (('.', 'de'), 30490),\n",
       " (('the', '.'), 29170)]"
      ]
     },
     "execution_count": 6,
     "metadata": {},
     "output_type": "execute_result"
    }
   ],
   "source": [
    "english_sents = [['NULL'] + sent for sent in english_sents]\n",
    "align_counts = word_pairs_in_corpus(english_sents, french_sents)\n",
    "align_counts.most_common(10)"
   ]
  },
  {
   "cell_type": "code",
   "execution_count": 7,
   "metadata": {},
   "outputs": [
    {
     "data": {
      "text/plain": [
       "1402126"
      ]
     },
     "execution_count": 7,
     "metadata": {},
     "output_type": "execute_result"
    }
   ],
   "source": [
    "len(align_counts)"
   ]
  },
  {
   "cell_type": "code",
   "execution_count": 8,
   "metadata": {},
   "outputs": [
    {
     "data": {
      "text/plain": [
       "(17430, 29741)"
      ]
     },
     "execution_count": 8,
     "metadata": {},
     "output_type": "execute_result"
    }
   ],
   "source": [
    "en_vocab = set([item[0] for item in align_counts.keys()])\n",
    "fr_vocab = set([item[1] for item in align_counts.keys()])\n",
    "len(en_vocab), len(fr_vocab)"
   ]
  },
  {
   "cell_type": "markdown",
   "metadata": {},
   "source": [
    "### Question 2 (2 points):\n",
    "\n",
    "Implment the ``corpus_log_prob `` that computes the log probability of the corpus"
   ]
  },
  {
   "cell_type": "code",
   "execution_count": 9,
   "metadata": {},
   "outputs": [],
   "source": [
    "def corpus_log_prob(en_sents, fr_sents, t):\n",
    "    '''\n",
    "    params:\n",
    "        en_sents: list[list[str]]\n",
    "        fr_sents: list[list[str]]\n",
    "        t: Dict() --- contains translation probabilities. For example, t[(english_word, french_word)] = p\n",
    "    return:\n",
    "        logp: float --- log probability of the corpus\n",
    "    '''\n",
    "    logp = 0\n",
    "    ### YOUR CODE HERE\n",
    "    \n",
    "    for en_words, fr_words in zip(en_sents, fr_sents):\n",
    "        for f in fr_words:\n",
    "            count = 0\n",
    "            for e in en_words:\n",
    "                count += t[(e, f)]\n",
    "            logp += np.log(count)\n",
    "    \n",
    "    # END OF YOUR CODE\n",
    "    return logp"
   ]
  },
  {
   "cell_type": "markdown",
   "metadata": {
    "colab_type": "text",
    "id": "424sQt3b8RRZ"
   },
   "source": [
    "## Hard EM algorithm"
   ]
  },
  {
   "cell_type": "markdown",
   "metadata": {
    "colab_type": "text",
    "id": "WB_5EV3q8RRa"
   },
   "source": [
    "### Question 3 (10 points)\n",
    "Based on the word pairs obtained in Q1, implement ``Hard EM algorithm`` to calculate the  translation probabilities  $t(f|e)$ on the English-French corpus.\n",
    "\n",
    "It is possible that in the hard EM algorithm a word $\\tilde{e}$ from an English sentence may not be aligned with any word from the corresponding French sentence. In this case, let us set the corresponding probabilities $t(f|\\tilde{e})=\\frac{1}{|V_f|}$ where $|V_f|$ is the size of the French vocabulary (in this case, the number of unique French words that ever appear in the training parallel corpus).\n",
    "\n",
    "1. Implement ``init`` function which initializes the translation probability dictionary $t$ according to equation (1). You need to use ``numpy.random.rand()`` in this part.\n",
    "2. Implement ``hard_EM`` function which runs one ``Expectation/Maximization`` iteration.\n",
    "3. Run the training code."
   ]
  },
  {
   "cell_type": "code",
   "execution_count": 10,
   "metadata": {},
   "outputs": [
    {
     "name": "stdout",
     "output_type": "stream",
     "text": [
      "[('NULL', 'va'), ('NULL', '!'), ('go', 'va'), ('go', '!'), ('.', 'va'), ('.', '!'), ('NULL', 'salut'), ('hi', 'salut'), ('hi', '!'), ('.', 'salut'), ('NULL', 'cours'), ('run', 'cours'), ('run', '!'), ('!', 'cours'), ('!', '!'), ('NULL', 'courez'), ('run', 'courez'), ('!', 'courez'), ('NULL', 'qui'), ('NULL', '?'), ('who?', 'qui'), ('who?', '?'), ('NULL', 'ça'), ('NULL', 'alors'), ('wow', 'ça'), ('wow', 'alors'), ('wow', '!'), ('!', 'ça'), ('!', 'alors'), ('NULL', 'au'), ('NULL', 'feu'), ('fire', 'au'), ('fire', 'feu'), ('fire', '!'), ('!', 'au'), ('!', 'feu'), ('NULL', 'à'), ('NULL', \"l'aide\"), ('help', 'à'), ('help', \"l'aide\"), ('help', '!'), ('!', 'à'), ('!', \"l'aide\"), ('NULL', 'saute'), ('NULL', '.'), ('jump', 'saute'), ('jump', '.'), ('.', 'saute'), ('.', '.'), ('NULL', 'suffit'), ('stop', 'ça'), ('stop', 'suffit'), ('stop', '!'), ('!', 'suffit'), ('NULL', 'stop'), ('stop', 'stop'), ('!', 'stop'), ('NULL', 'arrête-toi'), ('stop', 'arrête-toi'), ('!', 'arrête-toi'), ('NULL', 'attends'), ('wait', 'attends'), ('wait', '!'), ('!', 'attends'), ('NULL', 'attendez'), ('wait', 'attendez'), ('!', 'attendez'), ('NULL', 'poursuis'), ('go', 'poursuis'), ('go', '.'), ('on', 'poursuis'), ('on', '.'), ('.', 'poursuis'), ('NULL', 'continuez'), ('go', 'continuez'), ('on', 'continuez'), ('.', 'continuez'), ('NULL', 'poursuivez'), ('go', 'poursuivez'), ('on', 'poursuivez'), ('.', 'poursuivez'), ('NULL', 'bonjour'), ('hello', 'bonjour'), ('hello', '!'), ('!', 'bonjour'), ('hello', 'salut'), ('!', 'salut'), ('NULL', 'je'), ('NULL', 'comprends'), ('i', 'je'), ('i', 'comprends'), ('i', '.'), ('see', 'je'), ('see', 'comprends'), ('see', '.'), ('.', 'je'), ('.', 'comprends'), ('NULL', \"j'essaye\"), ('i', \"j'essaye\"), ('try', \"j'essaye\")]\n"
     ]
    }
   ],
   "source": [
    "print(list(align_counts.keys())[:100])"
   ]
  },
  {
   "cell_type": "code",
   "execution_count": 11,
   "metadata": {},
   "outputs": [],
   "source": [
    "def init(word_pairs):\n",
    "    '''\n",
    "    Use np.random.rand() to initialize translation probabilities t(f|e)\n",
    "    params:\n",
    "        word_pairs: List[(str, str)] --- list of word pairs\n",
    "    return:\n",
    "        t: Dict(), key: (english_word, french_word), value: the initial probability t(f|e). For example, t[(a, un)] = 0.5\n",
    "    '''\n",
    "    np.random.seed(5)\n",
    "    t = dict()\n",
    "    ### YOUR CODE HERE \n",
    "    \n",
    "    all_t = dict()\n",
    "    \n",
    "    for k in align_counts.keys():\n",
    "        p = np.random.rand()\n",
    "        t[k] = p\n",
    "        all_t[k[0]] = all_t.get(k[0], 0) + p\n",
    "        \n",
    "    for k in t.keys():\n",
    "        t[k] /= all_t[k[0]]\n",
    "    \n",
    "    ### END OF YOUR CODE\n",
    "    return t"
   ]
  },
  {
   "cell_type": "code",
   "execution_count": 12,
   "metadata": {},
   "outputs": [],
   "source": [
    "def hard_EM(en_sents, fr_sents, fr_vocab, t):\n",
    "    '''\n",
    "    One 'Expectation', 'Maximization' iteration.\n",
    "    params:\n",
    "        en_sents: List[List[str]]\n",
    "        fr_sents: List[List[str]]\n",
    "        fr_vocab: int --- size of the French vocab\n",
    "        t: Dict() --- translation probability dictionary from last iteration\n",
    "        \n",
    "    return:\n",
    "        new_t: Dict() --- updated parameters, dictionary\n",
    "    '''\n",
    "    new_t = t\n",
    "    ### YOUR CODE HERE\n",
    "    \n",
    "    # Expectation\n",
    "    counter = defaultdict(lambda:defaultdict(lambda:0))\n",
    "    \n",
    "    for en_words, fr_words in zip(en_sents, fr_sents):\n",
    "        for fr in fr_words:\n",
    "            temp_t = []\n",
    "            for en in en_words:\n",
    "                temp_t.append(t[en, fr])\n",
    "            \n",
    "            max_en = np.argmax(temp_t)\n",
    "            \n",
    "            for en_idx, en in enumerate(en_words):\n",
    "                if en_idx == max_en:\n",
    "                    max_en = en_words[max_en]\n",
    "                    counter[max_en][fr] += 1\n",
    "                else:\n",
    "                    counter[en][fr] += 0\n",
    "\n",
    "    # Maximization\n",
    "    for en, fr in counter.items():\n",
    "        sum_en = 0\n",
    "        for f, count in fr.items():\n",
    "            sum_en += count\n",
    "        \n",
    "        for f, count in fr.items():\n",
    "#             sum_ef = count\n",
    "            if count == 0:\n",
    "                new_t[(en, f)] = 1.0 / len(fr_vocab)\n",
    "            else:\n",
    "                new_t[(en,f)] = count / sum_en\n",
    "        \n",
    "    ### END OF YOUR CODE\n",
    "    \n",
    "    return new_t"
   ]
  },
  {
   "cell_type": "code",
   "execution_count": 13,
   "metadata": {},
   "outputs": [
    {
     "name": "stdout",
     "output_type": "stream",
     "text": [
      "Iteration: 1 Objective Function: -5666001.63189\n",
      "Iteration: 2 Objective Function: -2979272.60116\n",
      "Iteration: 3 Objective Function: -2223671.98924\n",
      "Iteration: 4 Objective Function: -2137901.51974\n",
      "Iteration: 5 Objective Function: -2107524.31178\n",
      "Iteration: 6 Objective Function: -2093634.29947\n",
      "Iteration: 7 Objective Function: -2086498.00765\n",
      "Iteration: 8 Objective Function: -2082353.66881\n",
      "Iteration: 9 Objective Function: -2079292.07572\n",
      "Iteration: 10 Objective Function: -2077822.52939\n"
     ]
    }
   ],
   "source": [
    "############################################################\n",
    "# Randomly initialized the probabilities under the contraint\n",
    "############################################################\n",
    "hard_t = init(align_counts)\n",
    "    \n",
    "##################\n",
    "# Hard EM training\n",
    "##################\n",
    "iteration = 0\n",
    "while iteration < 10:\n",
    "    \n",
    "    logp = corpus_log_prob(english_sents, french_sents, hard_t)    \n",
    "    hard_t = hard_EM(english_sents, french_sents, fr_vocab, hard_t)  \n",
    "    print(f\"Iteration: {iteration+1} Objective Function: {round(logp, 5)}\")\n",
    "    iteration += 1"
   ]
  },
  {
   "cell_type": "markdown",
   "metadata": {
    "colab_type": "text",
    "id": "18sBQ---8RRc"
   },
   "source": [
    "### Visualization\n",
    "### Question 4 (2 points)\n",
    "\n",
    "Implement ``visualize_alignment`` function to visualize the word alignment (namely $t(f|e)$) for the instance below:\n",
    "\n",
    "    NULL it was a very exciting game .   c'était un jeu vraiment très excitant . \n",
    "    \n",
    "You need to use ``sns.heatmap()`` in this part."
   ]
  },
  {
   "cell_type": "code",
   "execution_count": 14,
   "metadata": {},
   "outputs": [],
   "source": [
    "def visualize_alignment(en, fr, t):\n",
    "    '''\n",
    "    Visualize the alignments of an instance\n",
    "    params:\n",
    "        en: List[str] --- list of English words\n",
    "        fr: List[str] --- list of French words\n",
    "        t: Dict() --- The estimated translation probability dictionary\n",
    "    '''\n",
    "    ### YOUR CODE HERE \n",
    "    \n",
    "    fr_len = len(fr)\n",
    "    en_len = len(en)\n",
    "    \n",
    "    alignment = np.zeros([fr_len, en_len])\n",
    "    for i in range(fr_len):\n",
    "        for j in range(en_len):\n",
    "            alignment[i, j] = t[en[j], fr[i]]\n",
    "            \n",
    "    sns.heatmap(alignment, annot=True, cmap=\"PuBuGn\")\n",
    "    _, _ = plt.yticks(np.arange(len(fr))+0.5, fr, rotation=0, fontsize=10)\n",
    "    _, _ = plt.xticks(np.arange(len(en))+0.5, en, rotation=30, fontsize=10)\n",
    "    ### END OF YOUR CODE\n"
   ]
  },
  {
   "cell_type": "code",
   "execution_count": 15,
   "metadata": {
    "scrolled": true
   },
   "outputs": [
    {
     "data": {
      "image/png": "[encoded data removed]",
      "text/plain": [
       "<Figure size 576x432 with 2 Axes>"
      ]
     },
     "metadata": {
      "needs_background": "light"
     },
     "output_type": "display_data"
    }
   ],
   "source": [
    "plt.figure(figsize=(8, 6))\n",
    "plt.rc('font', size=10) \n",
    "en = \"NULL it was a very exciting game .\".split()\n",
    "fr = \"c'était un jeu vraiment très excitant .\".split()\n",
    "visualize_alignment(en, fr, hard_t)"
   ]
  },
  {
   "cell_type": "markdown",
   "metadata": {
    "colab_type": "text",
    "id": "azApJ9p78RRd"
   },
   "source": [
    "## Soft EM algorithm"
   ]
  },
  {
   "cell_type": "markdown",
   "metadata": {
    "colab_type": "text",
    "id": "DUYEBjlO8RRe"
   },
   "source": [
    "### Question 5 (8 points)\n",
    "1. Implement ``soft_EM`` function which runs one ``Expectation/Maximization`` iteration.\n",
    "2. Run the training code"
   ]
  },
  {
   "cell_type": "code",
   "execution_count": 16,
   "metadata": {},
   "outputs": [],
   "source": [
    "def soft_EM(en_sents, fr_sents, t):\n",
    "    '''\n",
    "    One 'Expectation', 'Maximization' iteration.\n",
    "    params:\n",
    "        en_sents: List[List[str]]\n",
    "        fr_sents: List[List[str]]\n",
    "        t: Dict() --- translation probability dictionary from last iteration\n",
    "        \n",
    "    return:\n",
    "        new_t: Dict() --- updated parameters, dictionary\n",
    "    '''\n",
    "    new_t = t\n",
    "    ### YOUR CODE HERE\n",
    "    \n",
    "    # Expectation\n",
    "    \n",
    "    counter = defaultdict(lambda:defaultdict(lambda:0))\n",
    "    \n",
    "    for en_words, fr_words in zip(en_sents, fr_sents):\n",
    "        for fr in fr_words:\n",
    "            t_temp = []\n",
    "            for en in en_words:\n",
    "                t_temp.append(t[en, fr])\n",
    "            _sum = np.sum(t_temp)\n",
    "            \n",
    "            for en in en_words:\n",
    "                counter[en][fr] += t[(en, fr)] / _sum\n",
    "    \n",
    "    # Maximization\n",
    "    \n",
    "    for en, fr in counter.items():\n",
    "        sum_en = 0\n",
    "        for f, count in fr.items():\n",
    "            sum_en += count\n",
    "        for f, count in fr.items():\n",
    "#             sum_ef = count\n",
    "            new_t[(en, f)] = count / sum_en \n",
    "\n",
    "    ### END OF YOUR CODE\n",
    "    return new_t"
   ]
  },
  {
   "cell_type": "markdown",
   "metadata": {},
   "source": [
    "Let us check the algorithm first using the objective value."
   ]
  },
  {
   "cell_type": "code",
   "execution_count": 17,
   "metadata": {},
   "outputs": [
    {
     "name": "stdout",
     "output_type": "stream",
     "text": [
      "Iteration: 1 Objective Function: -5666001.63189\n",
      "Iteration: 2 Objective Function: -2789609.12719\n",
      "Iteration: 3 Objective Function: -1984223.37994\n",
      "Iteration: 4 Objective Function: -1752281.10315\n",
      "Iteration: 5 Objective Function: -1669277.36277\n",
      "Iteration: 6 Objective Function: -1630095.29424\n",
      "Iteration: 7 Objective Function: -1608401.61802\n",
      "Iteration: 8 Objective Function: -1595262.22748\n",
      "Iteration: 9 Objective Function: -1586616.05157\n",
      "Iteration: 10 Objective Function: -1580320.27417\n",
      "Iteration: 11 Objective Function: -1575268.16842\n",
      "Iteration: 12 Objective Function: -1570983.43877\n",
      "Iteration: 13 Objective Function: -1567364.68429\n",
      "Iteration: 14 Objective Function: -1564437.83047\n",
      "Iteration: 15 Objective Function: -1562173.51609\n"
     ]
    }
   ],
   "source": [
    "############################################################\n",
    "# Randomly initialized the probabilities under the contraint\n",
    "############################################################\n",
    "soft_t = init(align_counts)\n",
    "    \n",
    "##################\n",
    "# Hard EM training\n",
    "##################\n",
    "iteration = 0\n",
    "while iteration < 15:\n",
    "    \n",
    "    logp = corpus_log_prob(english_sents, french_sents, soft_t)    \n",
    "    soft_t = soft_EM(english_sents, french_sents, soft_t)  \n",
    "    print(f\"Iteration: {iteration+1} Objective Function: {round(logp, 5)}\")\n",
    "    iteration += 1"
   ]
  },
  {
   "cell_type": "markdown",
   "metadata": {},
   "source": [
    "### Visualization"
   ]
  },
  {
   "cell_type": "code",
   "execution_count": 18,
   "metadata": {},
   "outputs": [
    {
     "data": {
      "image/png": "[encoded data removed]",
      "text/plain": [
       "<Figure size 432x288 with 2 Axes>"
      ]
     },
     "metadata": {
      "needs_background": "light"
     },
     "output_type": "display_data"
    }
   ],
   "source": [
    "en = \"NULL tom loves chocolate .\".split()\n",
    "fr = \"tom adore le chocolat .\".split()\n",
    "visualize_alignment(en, fr, soft_t)"
   ]
  },
  {
   "cell_type": "code",
   "execution_count": 19,
   "metadata": {},
   "outputs": [
    {
     "data": {
      "image/png": "[encoded data removed]",
      "text/plain": [
       "<Figure size 576x432 with 2 Axes>"
      ]
     },
     "metadata": {
      "needs_background": "light"
     },
     "output_type": "display_data"
    }
   ],
   "source": [
    "plt.figure(figsize=(8,6))\n",
    "en = \"NULL it was a very exciting game .\".split()\n",
    "fr = \"c'était un jeu vraiment très excitant .\".split()\n",
    "visualize_alignment(en, fr, soft_t)"
   ]
  }
 ],
 "metadata": {
  "colab": {
   "collapsed_sections": [],
   "name": "homework 3.ipynb",
   "provenance": [],
   "version": "0.3.2"
  },
  "kernelspec": {
   "display_name": "NLP-SUTD",
   "language": "python",
   "name": "nlp-sutd"
  },
  "language_info": {
   "codemirror_mode": {
    "name": "ipython",
    "version": 3
   },
   "file_extension": ".py",
   "mimetype": "text/x-python",
   "name": "python",
   "nbconvert_exporter": "python",
   "pygments_lexer": "ipython3",
   "version": "3.8.10"
  }
 },
 "nbformat": 4,
 "nbformat_minor": 1
}
