{
 "cells": [
  {
   "cell_type": "markdown",
   "metadata": {
    "id": "pf_8OI34CdXU"
   },
   "source": [
    "<img src=\"images/sutd.png\" alt=\"drawing\" style=\"width:300px;\"/>\n",
    "\n",
    "## <center>50.040 Natural Language Processing, Summer 2021<center>\n",
    "    \n",
    "<center>**Due 17 June 2021, 5pm** <center>\n",
    "Mini Project"
   ]
  },
  {
   "cell_type": "markdown",
   "metadata": {
    "id": "YAN5MA5GCdXU"
   },
   "source": [
    "**Write your student ID and name**\n",
    "\n",
    "\n",
    "### STUDENT ID: 1004115\n",
    "\n",
    "### Name: Jerome Heng\n",
    "\n",
    "### Students with whom you have discussed (if any):"
   ]
  },
  {
   "cell_type": "markdown",
   "metadata": {
    "id": "V0iF5uWcCdXV"
   },
   "source": [
    "# Introduction\n",
    "\n",
    "Language models are very useful for a wide range of applications, e.g., speech recognition and machine translation. Consider a sentence consisting of words $x_1, x_2, …, x_m$, where $m$ is the length of the sentence, the goal of language modeling is to model the probability of the sentence, where $m \\geq 1$, $x_i \\in V $ and $V$ is the vocabulary of the corpus:\n",
    "$$p(x_1, x_2, …, x_m)$$\n",
    "In this project, we are going to explore both statistical language model and neural language model on the [Wikitext-2](https://blog.einstein.ai/the-wikitext-long-term-dependency-language-modeling-dataset/) datasets. Download wikitext-2 word-level data and put it under the ``data`` folder.\n",
    "\n",
    "## Statistical  Language Model\n",
    "\n",
    "A simple way is to view words as independent random variables (i.e., zero-th order Markovian assumption). The joint probability can be written as:\n",
    "$$p(x_1, x_2, …, x_m)=\\prod_{i=1}^m p(x_i)$$\n",
    "However, this model ignores the word order information, to account for which, under the first-order Markovian assumption, the joint probability can be written as:\n",
    "$$p(x_0, x_1, x_2, …, x_{m})= \\prod_{i=1}^{m}p(x_i \\mid x_{i-1})$$\n",
    "Under the second-order Markovian assumption, the joint probability can be written as:\n",
    "$$p(x_{-1}, x_0, x_1, x_2, …, x_{m})= \\prod_{i=1}^{m}p(x_i \\mid x_{i-2}, x_{i-1})$$\n",
    "Similar to what we did in HMM, we will assume that $x_{-1}=START, x_0=START, x_{m} = STOP$ in this definition, where $START, STOP$ are special symbols referring to the start and the end of a sentence.\n",
    "\n",
    "\n",
    "\n",
    "\n",
    "\n"
   ]
  },
  {
   "cell_type": "markdown",
   "metadata": {
    "id": "F5wC4lqKCdXW"
   },
   "source": [
    "### Parameter estimation\n",
    "\n",
    "Let's use $count(u)$ to denote the number of times the unigram $u$ appears in the corpus, use $count(v, u)$ to denote the number of times the bigram $v, u$ appears in the corpus, and $count(w, v, u)$ the times the trigram $w, v, u$ appears in the corpus, $u \\in V \\cup STOP$ and $w, v \\in V \\cup START$.\n",
    "\n",
    "And the parameters of the unigram, bigram and trigram models can be obtained using maximum likelihood estimation (MLE).\n",
    "\n",
    "- In the unigram model, the parameters can be estimated as: $$p(u) = \\frac {count(u)}{c}$$, where $c$ is the total number of words in the corpus.\n",
    "- In the bigram model, the parameters can be estimated as:\n",
    "$$p(u \\mid v) = \\frac{count(v, u)}{count(v)}$$\n",
    "- In the trigram model, the parameters can be estimated as:\n",
    "$$p(u \\mid w, v) = \\frac{count(w, v, u)}{count(w, v)}$$\n",
    "\n",
    "\n"
   ]
  },
  {
   "cell_type": "markdown",
   "metadata": {
    "id": "C7dks8t0CdXW"
   },
   "source": [
    "### Smoothing the parameters\n",
    "#### Add-k Smoothing\n",
    "Note, it is likely that many parameters of bigram and trigram models will be 0 because the relevant bigrams and trigrams involved do not appear in the corpus. If you don't have a way to handle these 0 probabilities, all the sentences that include such bigrams or trigrams will have probabilities of 0.\n",
    "\n",
    "We'll use a Add-k Smoothing method to fix this problem, the smoothed parameters can be estimated as:\n",
    "\\begin{equation}\n",
    "p_{add-k}(u)= \\frac{count(u)+k}{c+k|V^*|}\n",
    "\\end{equation}\n",
    "\\begin{equation}\n",
    "p_{add-k}(u \\mid v)= \\frac{count(v, u)+k}{count(v)+k|V^*|}\n",
    "\\end{equation}\n",
    "\\begin{equation}\n",
    "p_{add-k}(u \\mid w, v)= \\frac{count(w, v, u)+k}{count(w, v)+k|V^*|}\n",
    "\\end{equation}\n",
    "\n",
    "where $k \\in (0, 1)$ is the parameter of this approach, and $|V^*|$ is the size of the vocabulary $V^*$, here $V^*= V \\cup STOP$. One way to choose the value of $k$ is by\n",
    "optimizing the perplexity of the development set, namely to choose the value that minimizes the perplexity.\n",
    "#### Interpolation\n",
    "There is another way for smoothing which is named as **interpolation**. In interpolation, we always mix the probability estimates from\n",
    "all the n-gram estimators, weighing and combining the trigram, bigram, and unigram counts. In simple linear interpolation, we combine different order n-grams by linearly interpolating all the models. Thus, we estimate the trigram probability $p(w_n|w_{n-2},w_{n-1})$ by mixing together the unigram, bigram, and trigram probabilities, each weighted by a $\\lambda$:\n",
    "\\begin{align}\n",
    "\\hat{p}(w_n|w_{n-2},w_{n-1}) = \\lambda_1p(w_n|w_{n-2},w_{n-1})+\\lambda_2p(w_n|w_{n-1})+\\lambda_3p(w_n)\n",
    "\\end{align}\n",
    "such that the $\\lambda$s sum to 1:\n",
    "\\begin{align}\n",
    "\\sum_i\\lambda_i=1\n",
    "\\end{align}\n",
    "In addition, $\\lambda_1,\\lambda_2,\\lambda_3\\geq 0$."
   ]
  },
  {
   "cell_type": "markdown",
   "metadata": {
    "id": "SNVha_8UCdXX"
   },
   "source": [
    "### Perplexity\n",
    "\n",
    "Given a test set $D^{\\prime}$ consisting of sentences $X^{(1)}, X^{(2)}, …, X^{(|D^{\\prime}|)}$, each sentence $X^{(j)}$ consists of words $x_1^{(j)}, x_2^{(j)},…,x_{n_j}^{(j)}$, we can measure the probability of each sentence $X^{(j)}$, and the quality of the language model would be the probability it assigns to the entire set of test sentences, namely:\n",
    "\\begin{equation} \n",
    "\\prod_{j=1}^{|D^{\\prime}|}p(X^{(j)})\n",
    "\\end{equation}\n",
    "Let's define average $log_2$ probability as:\n",
    "\\begin{equation} \n",
    "l=\\frac{1}{c^{\\prime}}\\sum_{j=1}^{|D^{\\prime}|}log_2p(X^{(j)})\n",
    "\\end{equation}\n",
    "$c^{\\prime}$ is the total number of words in the test set, $|D^{\\prime}|$ is the number of sentences. And the perplexity is defined as:\n",
    "\\begin{equation} \n",
    "perplexity=2^{-l}\n",
    "\\end{equation}\n",
    "\n",
    "The lower the perplexity, the better the language model."
   ]
  },
  {
   "cell_type": "code",
   "execution_count": null,
   "metadata": {
    "id": "8GB6nPinzFgA"
   },
   "outputs": [],
   "source": [
    "from collections import Counter, namedtuple, defaultdict\n",
    "import itertools\n",
    "import numpy as np"
   ]
  },
  {
   "cell_type": "code",
   "execution_count": null,
   "metadata": {
    "colab": {
     "base_uri": "https://localhost:8080/"
    },
    "id": "XxoA5d-R4xV6",
    "outputId": "5abb1493-5508-4474-d905-7552cd89f3e8"
   },
   "outputs": [
    {
     "name": "stdout",
     "output_type": "stream",
     "text": [
      "Drive already mounted at /content/drive; to attempt to forcibly remount, call drive.mount(\"/content/drive\", force_remount=True).\n"
     ]
    }
   ],
   "source": [
    "from google.colab import drive\n",
    "drive.mount('/content/drive')"
   ]
  },
  {
   "cell_type": "code",
   "execution_count": null,
   "metadata": {
    "colab": {
     "base_uri": "https://localhost:8080/"
    },
    "id": "vjun4sY346m8",
    "outputId": "8ce118f9-7e6e-4b63-8f98-ffd2f2fd664e"
   },
   "outputs": [
    {
     "name": "stdout",
     "output_type": "stream",
     "text": [
      "/content/drive/MyDrive/nlp/nlp/Mini\n"
     ]
    }
   ],
   "source": [
    "%cd drive/MyDrive/nlp/nlp/Mini"
   ]
  },
  {
   "cell_type": "code",
   "execution_count": null,
   "metadata": {
    "id": "fP8DyHhHzFgC"
   },
   "outputs": [],
   "source": [
    "with open('data/wikitext-2/wiki.train.tokens', 'r', encoding='utf8') as f:\n",
    "    text = f.readlines()\n",
    "    train_sents = [line.lower().strip('\\n').split() for line in text]\n",
    "    train_sents = [s for s in train_sents if len(s)>0 and s[0] != '=']"
   ]
  },
  {
   "cell_type": "code",
   "execution_count": null,
   "metadata": {
    "colab": {
     "base_uri": "https://localhost:8080/"
    },
    "id": "WE3rsK20zFgD",
    "outputId": "9a9d474e-a810-4b5b-c3c0-3c641148cab9"
   },
   "outputs": [
    {
     "name": "stdout",
     "output_type": "stream",
     "text": [
      "['the', 'game', 'began', 'development', 'in', '2010', ',', 'carrying', 'over', 'a', 'large', 'portion', 'of', 'the', 'work', 'done', 'on', 'valkyria', 'chronicles', 'ii', '.', 'while', 'it', 'retained', 'the', 'standard', 'features', 'of', 'the', 'series', ',', 'it', 'also', 'underwent', 'multiple', 'adjustments', ',', 'such', 'as', 'making', 'the', 'game', 'more', '<unk>', 'for', 'series', 'newcomers', '.', 'character', 'designer', '<unk>', 'honjou', 'and', 'composer', 'hitoshi', 'sakimoto', 'both', 'returned', 'from', 'previous', 'entries', ',', 'along', 'with', 'valkyria', 'chronicles', 'ii', 'director', 'takeshi', 'ozawa', '.', 'a', 'large', 'team', 'of', 'writers', 'handled', 'the', 'script', '.', 'the', 'game', \"'s\", 'opening', 'theme', 'was', 'sung', 'by', 'may', \"'n\", '.']\n"
     ]
    }
   ],
   "source": [
    "print(train_sents[1])"
   ]
  },
  {
   "cell_type": "markdown",
   "metadata": {
    "id": "G0vxL-WpCdXX"
   },
   "source": [
    "### Question 1 [code]\n",
    "1. Implement the function **\"compute_ngram\"** that computes n-grams in the corpus.\n",
    " (Do not take the START and STOP symbols into consideration for now.) \n",
    "2. List 10 most frequent unigrams, bigrams and trigrams as well as their counts.(Hint: use the built-in function .most_common in Counter class)"
   ]
  },
  {
   "cell_type": "code",
   "execution_count": null,
   "metadata": {
    "id": "TOyoT-QiCdXY"
   },
   "outputs": [],
   "source": [
    "# Unigram = namedtuple('Unigram', 'a')\n",
    "# Bigram = namedtuple('Bigram', ['a', 'b'])\n",
    "# Trigram = namedtuple('Trigram', ['a', 'b', 'c'])\n",
    "\n",
    "\n",
    "def compute_ngram(sents, n):\n",
    "    '''\n",
    "    Compute n-grams that appear in \"sents\".\n",
    "    param:\n",
    "        sents: list[list[str]] --- list of list of word strings\n",
    "        n: int --- \"n\" gram\n",
    "    return:\n",
    "        ngram_set: set{str} --- a set of n-grams (no duplicate elements)\n",
    "        ngram_dict: dict{ngram: counts} --- a dictionary that maps each ngram to its number occurence in \"sents\";\n",
    "        This dict contains the parameters of our ngram model. E.g. if n=2, ngram_dict={('a','b'):10, ('b','c'):13}\n",
    "        \n",
    "        You may need to use \"Counter\", \"tuple\" function here.\n",
    "    '''\n",
    "    ngram_set = set()\n",
    "    ngram_dict = defaultdict(int)\n",
    "    ### YOUR CODE HERE\n",
    "\n",
    "    for sentence in sents:\n",
    "        for start in range(len(sentence) - n + 1):\n",
    "            end = start + n\n",
    "            ngram = None\n",
    "            # if n == 1:\n",
    "            #     ngram = sentence[start]\n",
    "            # else:\n",
    "            ngram = tuple(sentence[start:end])\n",
    "            ngram_set.add(ngram)\n",
    "            ngram_dict[ngram] += 1\n",
    "\n",
    "    ### END OF YOUR CODE\n",
    "    return ngram_set, ngram_dict"
   ]
  },
  {
   "cell_type": "code",
   "execution_count": null,
   "metadata": {
    "colab": {
     "base_uri": "https://localhost:8080/"
    },
    "id": "gx7DbF8NzFgH",
    "outputId": "96c60c90-17c9-48b0-fca9-aed4a190bbd5"
   },
   "outputs": [
    {
     "name": "stdout",
     "output_type": "stream",
     "text": [
      "unigram: 28910\n",
      "bigram: 577343\n",
      "trigram: 1344047\n"
     ]
    }
   ],
   "source": [
    "unigram_set, unigram_dict = compute_ngram(train_sents, 1)\n",
    "print('unigram: %d' %(len(unigram_set)))\n",
    "bigram_set, bigram_dict = compute_ngram(train_sents, 2)\n",
    "print('bigram: %d' %(len(bigram_set)))\n",
    "trigram_set, trigram_dict = compute_ngram(train_sents, 3)\n",
    "print('trigram: %d' %(len(trigram_set)))"
   ]
  },
  {
   "cell_type": "code",
   "execution_count": null,
   "metadata": {
    "colab": {
     "base_uri": "https://localhost:8080/"
    },
    "id": "OnGlXNT_zFgJ",
    "outputId": "41439c93-05ec-42fc-95af-06c81c3f4c7d"
   },
   "outputs": [
    {
     "name": "stdout",
     "output_type": "stream",
     "text": [
      "unigram: [(('the',), 130519), ((',',), 99763), (('.',), 73388), (('of',), 56743), (('<unk>',), 53951), (('and',), 49940), (('in',), 44876), (('to',), 39462), (('a',), 36140), (('\"',), 28285)]\n",
      "bigram: [(('of', 'the'), 17242), (('in', 'the'), 11778), ((',', 'and'), 11643), (('.', 'the'), 11274), ((',', 'the'), 8024), (('<unk>', ','), 7698), (('to', 'the'), 6009), (('on', 'the'), 4495), (('the', '<unk>'), 4389), (('and', 'the'), 4331)]\n",
      "trigram: [((',', 'and', 'the'), 1393), ((',', '<unk>', ','), 950), (('<unk>', ',', '<unk>'), 901), (('one', 'of', 'the'), 866), (('<unk>', ',', 'and'), 819), (('.', 'however', ','), 775), (('<unk>', '<unk>', ','), 745), (('.', 'in', 'the'), 726), (('.', 'it', 'was'), 698), (('the', 'united', 'states'), 666)]\n"
     ]
    }
   ],
   "source": [
    "# List 10 most frequent unigrams, bigrams and trigrams as well as their counts.\n",
    "### YOUR CODE HERE\n",
    "\n",
    "unigram_count = Counter(unigram_dict)\n",
    "print('unigram:', unigram_count.most_common(10))\n",
    "bigram_count = Counter(bigram_dict)\n",
    "print('bigram:', bigram_count.most_common(10))\n",
    "trigram_count = Counter(trigram_dict)\n",
    "print('trigram:', trigram_count.most_common(10))\n",
    "\n",
    "### END OF YOUR CODE"
   ]
  },
  {
   "cell_type": "markdown",
   "metadata": {
    "id": "PVpoDgU7CdXb"
   },
   "source": [
    "### Question 2 [code]\n",
    "In this part, we take the START and STOP symbols into consideration. So we need to pad the **train_sents** as described in \"Statistical Language Model\" before we apply \"compute_ngram\" function. For example, given a sentence \"I like NLP\", in a bigram model, we need to pad it as \"START I like NLP STOP\", in a trigram model, we need to pad it as \"START START I like NLP STOP\". For unigram model, it should be paded as \"I like NLP STOP\".\n",
    "\n",
    "1. Implement the ``pad_sents`` function.\n",
    "2. Pad ``train_sents``.\n",
    "3. Apply ``compute_ngram`` function to these padded sents.\n",
    "4. Implement ``ngram_prob`` function. Compute the probability for each n-gram in the variable **ngrams** according equations in **\"Parameter estimation\"**. List down the n-grams that have 0 probability. \n",
    "\n"
   ]
  },
  {
   "cell_type": "code",
   "execution_count": null,
   "metadata": {
    "colab": {
     "base_uri": "https://localhost:8080/"
    },
    "id": "7xhXSyXUzFgL",
    "outputId": "77a998d7-9769-4de4-dfbe-3b27a56fa0b6"
   },
   "outputs": [
    {
     "name": "stdout",
     "output_type": "stream",
     "text": [
      "[['the', 'computer'], ['go', 'to'], ['have', 'had'], ['and', 'the'], ['can', 'sea'], ['a', 'number', 'of'], ['with', 'respect', 'to'], ['in', 'terms', 'of'], ['not', 'good', 'bad'], ['first', 'start', 'with']]\n"
     ]
    }
   ],
   "source": [
    "###############################################\n",
    "ngrams = list()\n",
    "with open('data/ngram.txt','r') as f:\n",
    "    for line in f:\n",
    "        ngrams.append(line.strip('\\n').split())\n",
    "print(ngrams)\n",
    "###############################################"
   ]
  },
  {
   "cell_type": "code",
   "execution_count": null,
   "metadata": {
    "id": "AiuVythDzFgM"
   },
   "outputs": [],
   "source": [
    "START = '<START>'\n",
    "STOP = '<STOP>'\n",
    "###################################\n",
    "def pad_sents(sents, n):\n",
    "    '''\n",
    "    Pad the sents according to n.\n",
    "    params:\n",
    "        sents: list[list[str]] --- list of sentences.\n",
    "        n: int --- specify the padding type, 1-gram, 2-gram, or 3-gram.\n",
    "    return:\n",
    "        padded_sents: list[list[str]] --- list of padded sentences.\n",
    "    '''\n",
    "    padded_sents = []\n",
    "    ### YOUR CODE HERE\n",
    "\n",
    "    for sentence in sents:\n",
    "        new_sentence = sentence[:]\n",
    "        if n == 1:\n",
    "            new_sentence.append(START)\n",
    "            padded_sents.append(new_sentence)\n",
    "        elif n == 2:\n",
    "            new_sentence.insert(0, START)\n",
    "            new_sentence.append(STOP)\n",
    "            padded_sents.append(new_sentence)\n",
    "        elif n == 3:\n",
    "            new_sentence.insert(0, START)\n",
    "            new_sentence.insert(0, START)\n",
    "            new_sentence.append(STOP)\n",
    "            padded_sents.append(new_sentence)\n",
    "\n",
    "    ### END OF YOUR CODE\n",
    "    return padded_sents"
   ]
  },
  {
   "cell_type": "code",
   "execution_count": null,
   "metadata": {
    "id": "BJwMfWx4zFgN"
   },
   "outputs": [],
   "source": [
    "uni_sents = pad_sents(train_sents, 1)\n",
    "bi_sents = pad_sents(train_sents, 2)\n",
    "tri_sents = pad_sents(train_sents, 3)"
   ]
  },
  {
   "cell_type": "code",
   "execution_count": null,
   "metadata": {
    "id": "Kuzct1eAzFgN"
   },
   "outputs": [],
   "source": [
    "unigram_set, unigram_dict = compute_ngram(uni_sents, 1)\n",
    "bigram_set, bigram_dict = compute_ngram(bi_sents, 2)\n",
    "trigram_set, trigram_dict = compute_ngram(tri_sents, 3)"
   ]
  },
  {
   "cell_type": "code",
   "execution_count": null,
   "metadata": {
    "colab": {
     "base_uri": "https://localhost:8080/"
    },
    "id": "QTaeYO2uzFgO",
    "outputId": "118ed956-dd7c-447a-bea2-26c3ea238ba7"
   },
   "outputs": [
    {
     "data": {
      "text/plain": [
       "(28911, 580825, 1363266)"
      ]
     },
     "execution_count": 20,
     "metadata": {},
     "output_type": "execute_result"
    }
   ],
   "source": [
    "len(unigram_set),len(bigram_set),len(trigram_set)"
   ]
  },
  {
   "cell_type": "code",
   "execution_count": null,
   "metadata": {
    "colab": {
     "base_uri": "https://localhost:8080/"
    },
    "id": "L37hL8T6zFgO",
    "outputId": "37a377d2-7b93-4de1-89b1-971de30870d0"
   },
   "outputs": [
    {
     "name": "stdout",
     "output_type": "stream",
     "text": [
      "2024702\n"
     ]
    }
   ],
   "source": [
    "num_words = sum([v for _,v in unigram_dict.items()])\n",
    "print(num_words)"
   ]
  },
  {
   "cell_type": "code",
   "execution_count": null,
   "metadata": {
    "id": "pYIbhE2WzFgP"
   },
   "outputs": [],
   "source": [
    "def ngram_prob(ngram, num_words, unigram_dic, bigram_dic, trigram_dic):\n",
    "    '''\n",
    "    params:\n",
    "        ngram: list[str] --- a list that represents n-gram\n",
    "        num_words: int --- total number of words\n",
    "        unigram_dic: dict{ngram: counts} --- a dictionary that maps each 1-gram to its number of occurences in \"sents\";\n",
    "        bigram_dic: dict{ngram: counts} --- a dictionary that maps each 2-gram to its number of occurence in \"sents\";\n",
    "        trigram_dic: dict{ngram: counts} --- a dictionary that maps each 3-gram to its number occurence in \"sents\";\n",
    "    return:\n",
    "        prob: float --- probability of the \"ngram\"\n",
    "    '''\n",
    "    prob = None\n",
    "    ### YOUR CODE HERE\n",
    "    ngram_size = len(ngram)\n",
    "\n",
    "    if ngram_size == 1:\n",
    "        prob = unigram_dic[tuple(ngram)]/num_words\n",
    "    elif ngram_size == 2:\n",
    "        if unigram_dic[tuple([ngram[1]])] == 0:\n",
    "            return 0\n",
    "        prob = bigram_dic[tuple(ngram)]/unigram_dic[tuple([ngram[1]])]\n",
    "    elif ngram_size == 3:\n",
    "        if bigram_dic[tuple(ngram[1:])] == 0:\n",
    "            return 0\n",
    "        prob = trigram_dic[tuple(ngram)]/bigram_dic[tuple(ngram[1:])]\n",
    "\n",
    "    ### END OF YOUR CODE\n",
    "    return prob"
   ]
  },
  {
   "cell_type": "code",
   "execution_count": null,
   "metadata": {
    "colab": {
     "base_uri": "https://localhost:8080/"
    },
    "id": "Uzqjwy9YzFgQ",
    "outputId": "cf529977-2a2a-4712-9c5a-090f6fd3f51c"
   },
   "outputs": [
    {
     "data": {
      "text/plain": [
       "0.0962962962962963"
      ]
     },
     "execution_count": 24,
     "metadata": {},
     "output_type": "execute_result"
    }
   ],
   "source": [
    "ngram_prob(ngrams[0], num_words, unigram_dict, bigram_dict, trigram_dict)"
   ]
  },
  {
   "cell_type": "code",
   "execution_count": null,
   "metadata": {
    "colab": {
     "base_uri": "https://localhost:8080/"
    },
    "id": "sEEEXUoTzFgR",
    "outputId": "9ce7b0ce-9605-4b6a-84b5-7e72c8edbe5c"
   },
   "outputs": [
    {
     "name": "stdout",
     "output_type": "stream",
     "text": [
      "['can', 'sea']\n",
      "['not', 'good', 'bad']\n",
      "['first', 'start', 'with']\n"
     ]
    }
   ],
   "source": [
    "### List down the n-grams that have 0 probability. \n",
    "### YOUR CODE HERE\n",
    "\n",
    "for ngram in ngrams:\n",
    "  if ngram_prob(ngram, num_words, unigram_dict, bigram_dict, trigram_dict) == 0:\n",
    "    print(ngram)\n",
    "\n",
    "### END OF YOUR CODE"
   ]
  },
  {
   "cell_type": "markdown",
   "metadata": {
    "id": "2kAezpJ9CdXd"
   },
   "source": [
    "### Question 3 [code]\n",
    "\n",
    "1. Implement ``add_k_smoothing_ngram`` function to estimate ngram probability with ``add-k`` smoothing technique.\n",
    "2. Implement ``interpolation_ngram`` function to estimate ngram probability with ``interpolation`` smoothing technique.\n",
    "3. Implement ``perplexity`` function to compute the perplexity of the corpus \"**valid_sents**\" according to \"**Perplexity**\" section. The computation of $p(X^{(j)})$ depends on the n-gram model you choose."
   ]
  },
  {
   "cell_type": "code",
   "execution_count": null,
   "metadata": {
    "id": "SjjkOyQYzFgS"
   },
   "outputs": [],
   "source": [
    "with open('data/wikitext-2/wiki.valid.tokens', 'r', encoding='utf8') as f:\n",
    "    text = f.readlines()\n",
    "    valid_sents = [line.lower().strip('\\n').split() for line in text]\n",
    "    valid_sents = [s for s in valid_sents if len(s)>0 and s[0] != '=']\n",
    "\n",
    "uni_valid_sents = pad_sents(valid_sents, 1)\n",
    "bi_valid_sents = pad_sents(valid_sents, 2)\n",
    "tri_valid_sents = pad_sents(valid_sents, 3)"
   ]
  },
  {
   "cell_type": "code",
   "execution_count": null,
   "metadata": {
    "id": "sY6jSb1TzFgS"
   },
   "outputs": [],
   "source": [
    "def add_k_smoothing_ngram(ngram, k, num_words, unigram_dic, bigram_dic, trigram_dic):\n",
    "    '''\n",
    "    params:\n",
    "        ngram: list[str] --- a list that represents n-gram\n",
    "        k: float \n",
    "        num_words: int --- total number of words\n",
    "        unigram_dic: dict{ngram: counts} --- a dictionary that maps each 1-gram to its number of occurences in \"sents\";\n",
    "        bigram_dic: dict{ngram: counts} --- a dictionary that maps each 2-gram to its number of occurence in \"sents\";\n",
    "        trigram_dic: dict{ngram: counts} --- a dictionary that maps each 3-gram to its number occurence in \"sents\";\n",
    "    return:\n",
    "        s_prob: float --- probability of the \"ngram\"\n",
    "    '''\n",
    "    s_prob = None\n",
    "    V = len(unigram_dic)\n",
    "    ### YOUR CODE HERE\n",
    "    ngram_size = len(ngram)\n",
    "    \n",
    "    if ngram_size == 1:\n",
    "        s_prob = (unigram_dic[tuple(ngram)] + k) / (num_words + k * V)\n",
    "    elif ngram_size == 2:\n",
    "        s_prob = (bigram_dic[tuple(ngram)] + k) / (unigram_dic[tuple([ngram[1]])] + k * V)\n",
    "    elif ngram_size == 3:\n",
    "        s_prob = (trigram_dic[tuple(ngram)] + k) / (bigram_dic[tuple(ngram[1:])] + k * V)\n",
    "\n",
    "    ### END OF YOUR CODE\n",
    "    return s_prob"
   ]
  },
  {
   "cell_type": "code",
   "execution_count": null,
   "metadata": {
    "id": "wmYwEpgszFgS"
   },
   "outputs": [],
   "source": [
    "def interpolation_ngram(ngram, lam, num_words, unigram_dic, bigram_dic, trigram_dic):\n",
    "    '''\n",
    "    params:\n",
    "        ngram: list[str] --- a list that represents n-gram\n",
    "        lam: list[float] --- a list of length 3.lam[0], lam[1] and lam[2] are correspondence to trigram, bigram and unigram,repectively.\n",
    "                             If len(ngram) == 1, lam[0]=lam[1]=0, lam[2]=1. If len(ngram) == 2, lam[0]=0. lam[0]+lam[1]+lam[2] = 1.\n",
    "        num_words: int --- total number of words\n",
    "        unigram_dic: dict{ngram: counts} --- a dictionary that maps each 1-gram to its number of occurences in \"sents\";\n",
    "        bigram_dic: dict{ngram: counts} --- a dictionary that maps each 2-gram to its number of occurence in \"sents\";\n",
    "        trigram_dic: dict{ngram: counts} --- a dictionary that maps each 3-gram to its number occurence in \"sents\";\n",
    "    return:\n",
    "        s_prob: float --- probability of the \"ngram\"\n",
    "    '''\n",
    "    s_prob = None\n",
    "    ### YOUR CODE HERE\n",
    "    ngram_size = len(ngram)\n",
    "\n",
    "    if ngram_size == 1:\n",
    "        s_prob = unigram_dic[tuple(ngram)]/num_words\n",
    "    elif ngram_size == 2:\n",
    "        if unigram_dic[tuple([ngram[1]])] == 0:\n",
    "            return 0\n",
    "        s_prob = lam[1] * bigram_dic[tuple(ngram)]/unigram_dic[tuple([ngram[1]])] \n",
    "        + lam[2] * unigram_dic[tuple([ngram[0]])]/num_words\n",
    "    elif ngram_size == 3:\n",
    "        if bigram_dic[tuple(ngram[1:])] == 0:\n",
    "            return 0\n",
    "        s_prob = lam[0] * trigram_dic[tuple(ngram)]/bigram_dic[tuple(ngram[1:])] \n",
    "        + lam[1] * bigram_dic[tuple(ngram[0:2])]/unigram_dic[tuple([ngram[0]])] \n",
    "        + lam[2] * unigram_dic[tuple([ngram[0]])]/num_words\n",
    "\n",
    "    ### END OF YOUR CODE\n",
    "    return s_prob"
   ]
  },
  {
   "cell_type": "code",
   "execution_count": null,
   "metadata": {
    "colab": {
     "base_uri": "https://localhost:8080/"
    },
    "id": "sjhuqa0wzFgT",
    "outputId": "a473b045-837d-4706-8049-2ee31cbcb117",
    "scrolled": true
   },
   "outputs": [
    {
     "name": "stdout",
     "output_type": "stream",
     "text": [
      "['a', 'number', 'of']\n",
      "0.3368772261082264 0.29300155520995336\n"
     ]
    }
   ],
   "source": [
    "add_k_prob = add_k_smoothing_ngram(ngrams[5], 0.01, num_words, unigram_dict, bigram_dict, trigram_dict)\n",
    "interpolation_prob = interpolation_ngram(ngrams[5], [0.6,0.3,0.1], num_words, unigram_dict, bigram_dict, trigram_dict)\n",
    "print(ngrams[5])\n",
    "print(add_k_prob, interpolation_prob)"
   ]
  },
  {
   "cell_type": "code",
   "execution_count": null,
   "metadata": {
    "id": "gwD0EU5yzFgT"
   },
   "outputs": [],
   "source": [
    "def perplexity(n, method, num_words, valid_sents, unigram_dic, bigram_dic, trigram_dic, k=0, lam=[0,0,1]):\n",
    "    '''\n",
    "    params:\n",
    "        n: int --- n-gram model you choose \n",
    "        method: int ---- method == 0, use add_k_smoothing; method != 0, use interpolation method.\n",
    "        num_words: int --- total number of words\n",
    "        valid_sents: list[list[str]] --- list of sentences\n",
    "        unigram_dic: dict{ngram: counts} --- a dictionary that maps each 1-gram to its number of occurences in \"sents\";\n",
    "        bigram_dic: dict{ngram: counts} --- a dictionary that maps each 2-gram to its number of occurence in \"sents\";\n",
    "        trigram_dic: dict{ngram: counts} --- a dictionary that maps each 3-gram to its number occurence in \"sents\";\n",
    "        k: float --- The parameter of add_k_smoothing\n",
    "        lam: list[float] --- a list of length 3. The parameter of interpolation. \n",
    "   return:\n",
    "        ppl: float --- perplexity of valid_sents\n",
    "    '''\n",
    "    ppl = None\n",
    "    ### YOUR CODE HERE\n",
    "    prob_sum = 0\n",
    "    for sentence in valid_sents:\n",
    "        ngram_set, ngram_dict = compute_ngram([sentence], n)\n",
    "        for ngram in ngram_set:\n",
    "            if method == 0:\n",
    "                prob_sum += np.log2(add_k_smoothing_ngram(ngram, k, num_words, unigram_dic, bigram_dic, trigram_dic))\n",
    "            else:\n",
    "                prob_sum += np.log2(interpolation_ngram(ngram, lam, num_words, unigram_dic, bigram_dic, trigram_dic)) \n",
    "    \n",
    "    l = 1/(num_words) * prob_sum\n",
    "    ppl = 2 ** -l\n",
    "\n",
    "    ### END OF YOUR CODE\n",
    "    return ppl"
   ]
  },
  {
   "cell_type": "code",
   "execution_count": null,
   "metadata": {
    "colab": {
     "base_uri": "https://localhost:8080/"
    },
    "id": "7rWOBANwzFgU",
    "outputId": "e4abad88-1d56-4a9c-d2fb-a317b7589e33"
   },
   "outputs": [
    {
     "data": {
      "text/plain": [
       "1.6332077715229345"
      ]
     },
     "execution_count": 31,
     "metadata": {},
     "output_type": "execute_result"
    }
   ],
   "source": [
    "perplexity(1, 0, num_words, uni_valid_sents, unigram_dict, bigram_dict, trigram_dict, k=0.1, lam=[0,0,1])"
   ]
  },
  {
   "cell_type": "markdown",
   "metadata": {
    "id": "mnDfGviyzFgU"
   },
   "source": [
    "### Question 4 [code][written]\n",
    "1. Based on add-k smoothing method, try out different $k\\in [ 0.0001, 0.001, 0.01, 0.1, 0.5]$ and different n-gram model (unigram, bigram and trigram). Find the model and $k$ that gives the best perplexity on \"**valid_sents**\" (smaller is better).\n",
    "2. Based on interpolation method, try out different $\\lambda$ where $\\lambda_1 = \\lambda_2$ and $\\lambda_3\\in [0.1, 0.2, 0.4, 0.6, 0.8]$. Find the $\\lambda$ that gives the best perplexity on \"**valid_sents**\" (smaller is better).\n",
    "3. Based on the methods and parameters we provide, choose the method that peforms best on the validation data."
   ]
  },
  {
   "cell_type": "code",
   "execution_count": null,
   "metadata": {
    "colab": {
     "base_uri": "https://localhost:8080/"
    },
    "id": "52Is_ESCzFgU",
    "outputId": "f43272c9-4a97-420d-fa6b-c33d52e492ed"
   },
   "outputs": [
    {
     "name": "stdout",
     "output_type": "stream",
     "text": [
      "Best perplexity: 1.626048026232343\n",
      "Best k: 0.5\n",
      "Best n: 1\n"
     ]
    }
   ],
   "source": [
    "n = [1,2,3]\n",
    "k = [0.0001, 0.001, 0.01, 0.1, 0.5]\n",
    "### YOUR CODE HERE (add-k smoothing method)\n",
    "best_perplexity = 9999\n",
    "best_n = None\n",
    "best_k = None\n",
    "for n_i in n:\n",
    "  for k_i in k:\n",
    "    current_perp = perplexity(n_i, 0, num_words, valid_sents, unigram_dict, bigram_dict, trigram_dict, k=k_i, lam=[0,0,1])\n",
    "    if current_perp < best_perplexity:\n",
    "      best_perplexity = current_perp\n",
    "      best_n = n_i\n",
    "      best_k = k_i\n",
    "\n",
    "print(\"Best perplexity:\", best_perplexity)\n",
    "print(\"Best k:\", best_k)\n",
    "print(\"Best n:\", best_n)\n",
    "\n",
    "### END OF YOUR CODE"
   ]
  },
  {
   "cell_type": "code",
   "execution_count": null,
   "metadata": {
    "colab": {
     "base_uri": "https://localhost:8080/"
    },
    "id": "0xo3PxPfzFgV",
    "outputId": "14c28beb-ebcc-4bdc-ef60-eca3d92318fe"
   },
   "outputs": [
    {
     "name": "stdout",
     "output_type": "stream",
     "text": [
      "1.62620620154882\n",
      "Best l: [0, 0, 0.1]\n"
     ]
    }
   ],
   "source": [
    "lambda_3 = [0.1, 0.2, 0.4, 0.6, 0.8]\n",
    "### YOUR CODE HERE (interpolation method)\n",
    "best_perplexity = 9999\n",
    "best_l3 = None\n",
    "for l_3 in lambda_3:\n",
    "  current_perp = perplexity(1, 1, num_words, valid_sents, unigram_dict, bigram_dict, trigram_dict, k=0.1, lam=[0,0,l_3])\n",
    "  if current_perp < best_perplexity:\n",
    "    best_perplexity = current_perp\n",
    "    best_l3 = l_3\n",
    "\n",
    "print(best_perplexity)\n",
    "print(\"Best l:\", [0, 0, best_l3])\n",
    "\n",
    "### END OF YOUR CODE"
   ]
  },
  {
   "cell_type": "markdown",
   "metadata": {
    "id": "lMszVyHmzFgV"
   },
   "source": [
    "Based on the methods and parameters we provide, choose the method that peforms best on the validation data (**write your answer**): The best method here is the k-smoothing method with a k of 0.5 and n of 1, which has a perplexity of 1.62604 compared to 1.62621 which is as a result of the interpolation method with l=[0,0,0.1]"
   ]
  },
  {
   "cell_type": "markdown",
   "metadata": {
    "id": "3o_yjh9lCdXg"
   },
   "source": [
    "### Question 5 [code]\n",
    "\n",
    "Evaluate the perplexity of the test data **test_sents** based on the best model you choose in **Question 4**."
   ]
  },
  {
   "cell_type": "code",
   "execution_count": null,
   "metadata": {
    "id": "i7hGcXgCCdXg"
   },
   "outputs": [],
   "source": [
    "with open('data/wikitext-2/wiki.test.tokens', 'r', encoding='utf8') as f:\n",
    "    text = f.readlines()\n",
    "    test_sents = [line.lower().strip('\\n').split() for line in text]\n",
    "    test_sents = [s for s in test_sents if len(s)>0 and s[0] != '=']\n",
    "\n",
    "uni_test_sents = pad_sents(test_sents, 1)\n",
    "bi_test_sents = pad_sents(test_sents, 2)\n",
    "tri_test_sents = pad_sents(test_sents, 3)"
   ]
  },
  {
   "cell_type": "code",
   "execution_count": null,
   "metadata": {
    "colab": {
     "base_uri": "https://localhost:8080/"
    },
    "id": "5KTLpxtWzFgW",
    "outputId": "6bd6eedc-126f-4481-d076-a84bf4b00341"
   },
   "outputs": [
    {
     "name": "stdout",
     "output_type": "stream",
     "text": [
      "Test perplexity: 1.9667767937474303\n"
     ]
    }
   ],
   "source": [
    "### YOUR CODE HERE\n",
    "\n",
    "test_perplexity = perplexity(2, 0, num_words, bi_test_sents, unigram_dict, bigram_dict, trigram_dict, k=0.001, lam=[0,0,1])\n",
    "print(\"Test perplexity:\", test_perplexity)\n",
    "\n",
    "### END OF YOUR CODE"
   ]
  },
  {
   "cell_type": "markdown",
   "metadata": {
    "id": "ePSI8RDWCdXj"
   },
   "source": [
    "## Neural Language Model\n"
   ]
  },
  {
   "cell_type": "markdown",
   "metadata": {
    "id": "jkoTco_jCdXj"
   },
   "source": [
    "<img src=\"images/LM.png\" alt=\"drawing\" style=\"width:500px;\"/>\n",
    "\n",
    "We will create a LSTM language model as shown in figure and train it on the Wikitext-2 dataset. \n",
    "The data generators (train\\_iter, valid\\_iter, test\\_iter) have been provided. \n",
    "The word embeddings together with the parameters in the LSTM model will be learned from scratch.\n",
    "\n",
    "[Pytorch](https://pytorch.org/tutorials/) and [torchtext](https://torchtext.readthedocs.io/en/latest/index.html#) are required in this part. Do not make any changes to the provided code unless you are requested to do so. "
   ]
  },
  {
   "cell_type": "markdown",
   "metadata": {
    "id": "qcmTqEC5zFgX"
   },
   "source": [
    "### Question 6 [code]\n",
    "- Implement the ``__init__`` function in ``LangModel`` class. *Note: the code implementation should allow switching between unidirectional LSTM and bidirectional LSTM easily*\n",
    "- Implement the ``forward`` function in ``LangModel`` class.\n",
    "- Complete the training code in train function and the testing code in test function.\n",
    "- Train two models - **Unidirectional LSTM** and **Bidirectional LSTM**. Compute the perplexity of the test data \"test_iter\" using the trained models. The test perplexity of both trained models should be below 150."
   ]
  },
  {
   "cell_type": "markdown",
   "metadata": {
    "id": "y0nQ6NxvzFgX"
   },
   "source": [
    "**Important Note: Make sure that \"torchtext <= 0.11\", as newer version might have torchtext.legacy removed**"
   ]
  },
  {
   "cell_type": "code",
   "execution_count": null,
   "metadata": {
    "colab": {
     "base_uri": "https://localhost:8080/"
    },
    "id": "gi37-6MVza1e",
    "outputId": "875176d3-9963-4061-b6ff-c3ae297eb4bd"
   },
   "outputs": [
    {
     "name": "stdout",
     "output_type": "stream",
     "text": [
      "Looking in indexes: https://pypi.org/simple, https://us-python.pkg.dev/colab-wheels/public/simple/\n",
      "Collecting torchtext==0.11\n",
      "  Downloading torchtext-0.11.0-cp37-cp37m-manylinux1_x86_64.whl (8.0 MB)\n",
      "\u001b[K     |████████████████████████████████| 8.0 MB 4.8 MB/s \n",
      "\u001b[?25hRequirement already satisfied: tqdm in /usr/local/lib/python3.7/dist-packages (from torchtext==0.11) (4.64.0)\n",
      "Requirement already satisfied: requests in /usr/local/lib/python3.7/dist-packages (from torchtext==0.11) (2.23.0)\n",
      "Collecting torch==1.10.0\n",
      "  Downloading torch-1.10.0-cp37-cp37m-manylinux1_x86_64.whl (881.9 MB)\n",
      "\u001b[K     |██████████████████████████████▎ | 834.1 MB 2.9 MB/s eta 0:00:17tcmalloc: large alloc 1147494400 bytes == 0x3aa88000 @  0x7f2e9ce35615 0x592b76 0x4df71e 0x59afff 0x515655 0x549576 0x593fce 0x548ae9 0x51566f 0x549576 0x593fce 0x548ae9 0x5127f1 0x598e3b 0x511f68 0x598e3b 0x511f68 0x598e3b 0x511f68 0x4bc98a 0x532e76 0x594b72 0x515600 0x549576 0x593fce 0x548ae9 0x5127f1 0x549576 0x593fce 0x5118f8 0x593dd7\n",
      "\u001b[K     |████████████████████████████████| 881.9 MB 19 kB/s \n",
      "\u001b[?25hRequirement already satisfied: numpy in /usr/local/lib/python3.7/dist-packages (from torchtext==0.11) (1.21.6)\n",
      "Requirement already satisfied: typing-extensions in /usr/local/lib/python3.7/dist-packages (from torch==1.10.0->torchtext==0.11) (4.2.0)\n",
      "Requirement already satisfied: chardet<4,>=3.0.2 in /usr/local/lib/python3.7/dist-packages (from requests->torchtext==0.11) (3.0.4)\n",
      "Requirement already satisfied: urllib3!=1.25.0,!=1.25.1,<1.26,>=1.21.1 in /usr/local/lib/python3.7/dist-packages (from requests->torchtext==0.11) (1.24.3)\n",
      "Requirement already satisfied: idna<3,>=2.5 in /usr/local/lib/python3.7/dist-packages (from requests->torchtext==0.11) (2.10)\n",
      "Requirement already satisfied: certifi>=2017.4.17 in /usr/local/lib/python3.7/dist-packages (from requests->torchtext==0.11) (2022.5.18.1)\n",
      "Installing collected packages: torch, torchtext\n",
      "  Attempting uninstall: torch\n",
      "    Found existing installation: torch 1.11.0+cu113\n",
      "    Uninstalling torch-1.11.0+cu113:\n",
      "      Successfully uninstalled torch-1.11.0+cu113\n",
      "  Attempting uninstall: torchtext\n",
      "    Found existing installation: torchtext 0.12.0\n",
      "    Uninstalling torchtext-0.12.0:\n",
      "      Successfully uninstalled torchtext-0.12.0\n",
      "\u001b[31mERROR: pip's dependency resolver does not currently take into account all the packages that are installed. This behaviour is the source of the following dependency conflicts.\n",
      "torchvision 0.12.0+cu113 requires torch==1.11.0, but you have torch 1.10.0 which is incompatible.\n",
      "torchaudio 0.11.0+cu113 requires torch==1.11.0, but you have torch 1.10.0 which is incompatible.\u001b[0m\n",
      "Successfully installed torch-1.10.0 torchtext-0.11.0\n"
     ]
    }
   ],
   "source": [
    "!pip install torchtext==0.11"
   ]
  },
  {
   "cell_type": "code",
   "execution_count": null,
   "metadata": {
    "colab": {
     "base_uri": "https://localhost:8080/"
    },
    "id": "tF2GCRdFCdXk",
    "outputId": "9592e74c-5a76-4b40-bcbd-b8b02211ef45"
   },
   "outputs": [
    {
     "name": "stdout",
     "output_type": "stream",
     "text": [
      "[nltk_data] Downloading package punkt to /root/nltk_data...\n",
      "[nltk_data]   Unzipping tokenizers/punkt.zip.\n"
     ]
    },
    {
     "data": {
      "text/plain": [
       "<torch._C.Generator at 0x7ff5e6e04690>"
      ]
     },
     "execution_count": 37,
     "metadata": {},
     "output_type": "execute_result"
    }
   ],
   "source": [
    "import torchtext\n",
    "import torch\n",
    "import torch.nn.functional as F\n",
    "from torchtext.legacy.datasets import WikiText2\n",
    "from torch import nn, optim\n",
    "from torchtext.legacy import data\n",
    "from nltk import word_tokenize\n",
    "import nltk\n",
    "nltk.download('punkt')\n",
    "torch.manual_seed(222)"
   ]
  },
  {
   "cell_type": "code",
   "execution_count": null,
   "metadata": {
    "colab": {
     "base_uri": "https://localhost:8080/"
    },
    "id": "lt6JBdSnCdXn",
    "outputId": "62984d27-b61f-45af-e9b4-85aefe0c3455"
   },
   "outputs": [
    {
     "name": "stdout",
     "output_type": "stream",
     "text": [
      "downloading wikitext-2-v1.zip\n"
     ]
    },
    {
     "name": "stderr",
     "output_type": "stream",
     "text": [
      "100%|██████████| 4.48M/4.48M [00:00<00:00, 31.1MB/s]\n"
     ]
    },
    {
     "name": "stdout",
     "output_type": "stream",
     "text": [
      "extracting\n"
     ]
    }
   ],
   "source": [
    "def tokenizer(text):\n",
    "    '''Tokenize a string to words'''\n",
    "    return word_tokenize(text)\n",
    "\n",
    "START = '<START>'\n",
    "STOP = '<STOP>'\n",
    "#Load and split data into three parts\n",
    "TEXT = data.Field(lower=True, tokenize=tokenizer, init_token=START, eos_token=STOP)\n",
    "train, valid, test = WikiText2.splits(TEXT) "
   ]
  },
  {
   "cell_type": "code",
   "execution_count": null,
   "metadata": {
    "colab": {
     "base_uri": "https://localhost:8080/"
    },
    "id": "KHwu4VMVCdXq",
    "outputId": "d111b216-fe59-447f-962a-e6ead2802f3e"
   },
   "outputs": [
    {
     "name": "stdout",
     "output_type": "stream",
     "text": [
      "Vocabulary size: 28908\n"
     ]
    }
   ],
   "source": [
    "#Build a vocabulary from the train dataset\n",
    "TEXT.build_vocab(train)\n",
    "print('Vocabulary size:', len(TEXT.vocab))"
   ]
  },
  {
   "cell_type": "code",
   "execution_count": null,
   "metadata": {
    "id": "ua9e-OBMCdXs"
   },
   "outputs": [],
   "source": [
    "BATCH_SIZE = 64\n",
    "# the length of a text feeding to the RNN layer\n",
    "BPTT_LEN = 32           \n",
    "# train, validation, test data\n",
    "train_iter, valid_iter, test_iter = data.BPTTIterator.splits((train, valid, test),\n",
    "                                                                batch_size=BATCH_SIZE,\n",
    "                                                                bptt_len=BPTT_LEN,\n",
    "                                                                repeat=False)"
   ]
  },
  {
   "cell_type": "code",
   "execution_count": null,
   "metadata": {
    "colab": {
     "base_uri": "https://localhost:8080/"
    },
    "id": "6_Cd8shXCdXy",
    "outputId": "b3219223-25c5-4b1e-ad9a-0a515d6941af",
    "scrolled": true
   },
   "outputs": [
    {
     "name": "stdout",
     "output_type": "stream",
     "text": [
      "Size of text tensor torch.Size([32, 64])\n",
      "Size of target tensor torch.Size([32, 64])\n"
     ]
    }
   ],
   "source": [
    "#Generate a batch of train data\n",
    "batch = next(iter(train_iter))\n",
    "text, target = batch.text, batch.target\n",
    "print('Size of text tensor',text.size())\n",
    "print('Size of target tensor',target.size())"
   ]
  },
  {
   "cell_type": "code",
   "execution_count": null,
   "metadata": {
    "id": "TASvD_4czFgZ"
   },
   "outputs": [],
   "source": [
    "class LangModel(nn.Module):\n",
    "    def __init__(self, lang_config):\n",
    "        super(LangModel, self).__init__()\n",
    "        self.vocab_size = lang_config['vocab_size']\n",
    "        self.emb_size = lang_config['emb_size']\n",
    "        self.hidden_size = lang_config['hidden_size']\n",
    "        self.num_layer = lang_config['num_layer']\n",
    "        \n",
    "        self.embedding = None\n",
    "        self.lstm = None\n",
    "        self.linear = None\n",
    "        \n",
    "        ### TODO: \n",
    "        ###    1. Initialize 'self.embedding' with nn.Embedding function and 2 variables we have initialized for you\n",
    "        ###    2. Initialize 'self.lstm' with nn.LSTM function and 4 variables we have initialized for you \n",
    "        ###    3. Initialize 'self.linear' with nn.Linear function and 2 variables we have initialized for you\n",
    "        ### Reference:\n",
    "        ###        https://pytorch.org/docs/stable/nn.html\n",
    "        \n",
    "        ### YOUR CODE HERE (3 lines)\n",
    "        self.embedding = nn.Embedding(self.vocab_size, self.emb_size)\n",
    "        self.lstm = nn.LSTM(self.emb_size, self.hidden_size, self.num_layer)\n",
    "        self.linear = nn.Linear(self.hidden_size, self.vocab_size)\n",
    "\n",
    "        ### END OF YOUR CODE\n",
    "        \n",
    "    def forward(self, batch_sents, hidden=None):\n",
    "        '''\n",
    "        params:\n",
    "            batch_sents: torch.LongTensor of shape (sequence_len, batch_size)\n",
    "        return:\n",
    "            normalized_score: torch.FloatTensor of shape (sequence_len, batch_size, vocab_size)\n",
    "        '''\n",
    "        normalized_score = None\n",
    "        hidden = hidden\n",
    "        ### TODO:\n",
    "        ###      1. Feed the batch_sents to self.embedding  \n",
    "        ###      2. Feed the embeddings to self.lstm. Remember to pass \"hidden\" into self.lstm, even if it is None. But we will \n",
    "        ###         use \"hidden\" when implementing greedy search.\n",
    "        ###      3. Apply linear transformation to the output of self.lstm\n",
    "        ###      4. Apply 'F.log_softmax' to the output of linear transformation\n",
    "        ###\n",
    "        ### YOUR CODE HERE (4 lines)\n",
    "        embeds = self.embedding(batch_sents)\n",
    "        lstm_out, hidden = self.lstm(embeds, hidden)\n",
    "        linear_out = self.linear(lstm_out)\n",
    "        normalized_score = F.log_softmax(linear_out, dim=1)\n",
    "\n",
    "        ### END OF YOUR CODE\n",
    "        return normalized_score, hidden"
   ]
  },
  {
   "cell_type": "code",
   "execution_count": null,
   "metadata": {
    "id": "qOx4wV13zFgZ"
   },
   "outputs": [],
   "source": [
    "def train(model, train_iter, valid_iter, vocab_size, criterion, optimizer, num_epochs):\n",
    "    for n in range(num_epochs):\n",
    "        train_loss = 0\n",
    "        target_num = 0\n",
    "        model.train()\n",
    "        for batch in train_iter:\n",
    "            \n",
    "            text, targets = batch.text.to(device), batch.target.to(device)\n",
    "            loss = None\n",
    "            \n",
    "            ### we don't consider \"hidden\" here. So according to the default setting, \"hidden\" will be None\n",
    "            ### YOU CODE HERE (~5 lines)\n",
    "            optimizer.zero_grad()\n",
    "            prediction,_ = model(text)\n",
    "            loss = criterion(prediction.view(-1, vocab_size), targets.view(-1))\n",
    "            loss.backward()\n",
    "            optimizer.step()\n",
    "\n",
    "\n",
    "            ### END OF YOUR CODE\n",
    "            ##########################################\n",
    "            train_loss += loss.item() * targets.size(0) * targets.size(1)\n",
    "            target_num += targets.size(0) * targets.size(1)\n",
    "\n",
    "        train_loss /= target_num\n",
    "\n",
    "        # monitor the loss of all the predictions\n",
    "        val_loss = 0\n",
    "        target_num = 0\n",
    "        model.eval()\n",
    "        for batch in valid_iter:\n",
    "            text, targets = batch.text.to(device), batch.target.to(device)\n",
    "            \n",
    "            prediction,_ = model(text)\n",
    "            loss = criterion(prediction.view(-1, vocab_size), targets.view(-1))\n",
    "            \n",
    "            val_loss += loss.item() * targets.size(0) * targets.size(1)\n",
    "            target_num += targets.size(0) * targets.size(1)\n",
    "        val_loss /= target_num\n",
    "\n",
    "        print('Epoch: {}, Training Loss: {:.4f}, Validation Loss: {:.4f}'.format(n+1, train_loss, val_loss))   "
   ]
  },
  {
   "cell_type": "code",
   "execution_count": null,
   "metadata": {
    "id": "agIH_wTEzFgZ"
   },
   "outputs": [],
   "source": [
    "def test(model, vocab_size, criterion, test_iter):\n",
    "    '''\n",
    "    params: \n",
    "        model: LSTM model\n",
    "        test_iter: test data\n",
    "    return:\n",
    "        ppl: perplexity \n",
    "    '''\n",
    "    ppl = None\n",
    "    test_loss = 0\n",
    "    target_num = 0\n",
    "    with torch.no_grad():\n",
    "        for batch in test_iter:\n",
    "            text, targets = batch.text.to(device), batch.target.to(device)\n",
    "\n",
    "            prediction,_ = model(text)\n",
    "            loss = criterion(prediction.view(-1, vocab_size), targets.view(-1))\n",
    "\n",
    "            test_loss += loss.item() * targets.size(0) * targets.size(1)\n",
    "            target_num += targets.size(0) * targets.size(1)\n",
    "\n",
    "        test_loss /= target_num\n",
    "        \n",
    "        ### Compute perplexity according to \"test_loss\"\n",
    "        ### Hint: Consider how the loss is computed.\n",
    "        ### YOUR CODE HERE(1 line)\n",
    "\n",
    "        ppl = np.exp(test_loss)\n",
    "\n",
    "        ### END OF YOUR CODE\n",
    "        return ppl"
   ]
  },
  {
   "cell_type": "code",
   "execution_count": null,
   "metadata": {
    "id": "SKTHtoAOzFga"
   },
   "outputs": [],
   "source": [
    "num_epochs=10\n",
    "device = torch.device(\"cuda\" if torch.cuda.is_available() else \"cpu\")\n",
    "vocab_size = len(TEXT.vocab)\n",
    "\n",
    "criterion = nn.NLLLoss(reduction='mean')"
   ]
  },
  {
   "cell_type": "code",
   "execution_count": null,
   "metadata": {
    "id": "nvpwMw0IzFga"
   },
   "outputs": [],
   "source": [
    "config = {\n",
    "    'vocab_size':vocab_size,\n",
    "    'emb_size':128,\n",
    "    'hidden_size':128,\n",
    "    'num_layer':1,\n",
    "    'bidirectional': False\n",
    "}\n",
    "\n",
    "LM = LangModel(config)\n",
    "LM = LM.to(device)"
   ]
  },
  {
   "cell_type": "code",
   "execution_count": null,
   "metadata": {
    "id": "f2jy4W-AqJ8y"
   },
   "outputs": [],
   "source": [
    "optimizer = optim.Adam(LM.parameters(), lr=1e-3, betas=(0.7, 0.99))"
   ]
  },
  {
   "cell_type": "code",
   "execution_count": null,
   "metadata": {
    "colab": {
     "base_uri": "https://localhost:8080/"
    },
    "id": "ok7DcDVMzFga",
    "outputId": "1ecce1bc-23e3-4b84-a325-2def37e7bff5"
   },
   "outputs": [
    {
     "name": "stdout",
     "output_type": "stream",
     "text": [
      "Epoch: 1, Training Loss: 3.1655, Validation Loss: 2.8678\n",
      "Epoch: 2, Training Loss: 2.7602, Validation Loss: 2.7336\n",
      "Epoch: 3, Training Loss: 2.5831, Validation Loss: 2.6680\n",
      "Epoch: 4, Training Loss: 2.4618, Validation Loss: 2.6312\n",
      "Epoch: 5, Training Loss: 2.3706, Validation Loss: 2.6103\n",
      "Epoch: 6, Training Loss: 2.2979, Validation Loss: 2.5996\n",
      "Epoch: 7, Training Loss: 2.2377, Validation Loss: 2.5954\n",
      "Epoch: 8, Training Loss: 2.1864, Validation Loss: 2.5956\n",
      "Epoch: 9, Training Loss: 2.1418, Validation Loss: 2.5994\n",
      "Epoch: 10, Training Loss: 2.1023, Validation Loss: 2.6060\n"
     ]
    }
   ],
   "source": [
    "train(LM, train_iter, valid_iter, vocab_size, criterion, optimizer, num_epochs)"
   ]
  },
  {
   "cell_type": "code",
   "execution_count": null,
   "metadata": {
    "colab": {
     "base_uri": "https://localhost:8080/"
    },
    "id": "VQHYgHT3zFga",
    "outputId": "72d122db-2b27-42b1-b0fe-03423c09327c"
   },
   "outputs": [
    {
     "data": {
      "text/plain": [
       "13.08383006489228"
      ]
     },
     "execution_count": 49,
     "metadata": {},
     "output_type": "execute_result"
    }
   ],
   "source": [
    "test(LM, vocab_size, criterion, test_iter)"
   ]
  },
  {
   "cell_type": "code",
   "execution_count": null,
   "metadata": {
    "id": "MVEmsOnSzFgb"
   },
   "outputs": [],
   "source": [
    "config = {\n",
    "    'vocab_size':vocab_size,\n",
    "    'emb_size':128,\n",
    "    'hidden_size':128,\n",
    "    'num_layer':1,\n",
    "    'bidirectional': True\n",
    "}\n",
    "\n",
    "biLSTM = LangModel(config)\n",
    "biLSTM = biLSTM.to(device)"
   ]
  },
  {
   "cell_type": "code",
   "execution_count": null,
   "metadata": {
    "colab": {
     "base_uri": "https://localhost:8080/"
    },
    "id": "mHorxsBozFgb",
    "outputId": "654cd3d2-f713-4942-f952-ddd7b1585a72"
   },
   "outputs": [
    {
     "name": "stdout",
     "output_type": "stream",
     "text": [
      "Epoch: 1, Training Loss: 4.1615, Validation Loss: 4.1599\n",
      "Epoch: 2, Training Loss: 4.1615, Validation Loss: 4.1599\n",
      "Epoch: 3, Training Loss: 4.1615, Validation Loss: 4.1599\n",
      "Epoch: 4, Training Loss: 4.1615, Validation Loss: 4.1599\n",
      "Epoch: 5, Training Loss: 4.1615, Validation Loss: 4.1599\n",
      "Epoch: 6, Training Loss: 4.1615, Validation Loss: 4.1599\n",
      "Epoch: 7, Training Loss: 4.1615, Validation Loss: 4.1599\n",
      "Epoch: 8, Training Loss: 4.1615, Validation Loss: 4.1599\n",
      "Epoch: 9, Training Loss: 4.1615, Validation Loss: 4.1599\n",
      "Epoch: 10, Training Loss: 4.1615, Validation Loss: 4.1599\n"
     ]
    }
   ],
   "source": [
    "train(biLSTM, train_iter, valid_iter, vocab_size, criterion, optimizer, num_epochs)"
   ]
  },
  {
   "cell_type": "code",
   "execution_count": null,
   "metadata": {
    "colab": {
     "base_uri": "https://localhost:8080/"
    },
    "id": "Ncc1Z4x2zFgb",
    "outputId": "2adb87e9-f1fc-41e7-a6bf-bcd173e2b2b6"
   },
   "outputs": [
    {
     "data": {
      "text/plain": [
       "64.04645495452206"
      ]
     },
     "execution_count": 52,
     "metadata": {},
     "output_type": "execute_result"
    }
   ],
   "source": [
    "test(biLSTM, vocab_size, criterion, test_iter)"
   ]
  },
  {
   "cell_type": "markdown",
   "metadata": {
    "id": "6r6ux_gdzFgc"
   },
   "source": [
    "### Question 7 [code][written]\n",
    "<img src=\"images/greedy.png\" alt=\"drawing\" style=\"width:500px;\"/>\n",
    "\n",
    "When we use trained language model to generate a sentence given a start token, we can choose ``greedy search``.\n",
    "\n",
    "As shown above, ``greedy search`` algorithm will pick the token which has the highest probability and feed it to the language model as input in the next time step. The model will generate ``max_len`` number of tokens at most.\n",
    "\n",
    "- Implement ``word_greedy_search``"
   ]
  },
  {
   "cell_type": "code",
   "execution_count": null,
   "metadata": {
    "id": "RDQlgReXzFgc"
   },
   "outputs": [],
   "source": [
    "def word_greedy_search(model, start_token, max_len):\n",
    "    '''\n",
    "    param:\n",
    "        model: nn.Module --- language model\n",
    "        start_token: str --- e.g. 'he'\n",
    "        max_len: int --- max number of tokens generated\n",
    "    return:\n",
    "        strings: list[str] --- list of tokens, e.g., ['he', 'was', 'a', 'member', 'of',...]\n",
    "    '''\n",
    "    model.eval()\n",
    "    ID = TEXT.vocab.stoi[start_token]\n",
    "    print(ID)\n",
    "    strings = [start_token]\n",
    "    hidden = None\n",
    "    \n",
    "    ### You may find TEXT.vocab.itos useful.\n",
    "    ### YOUR CODE HERE\n",
    "    for i in range(max_len):\n",
    "      if ID == TEXT.vocab.stoi[\"<STOP>\"]:\n",
    "        break\n",
    "      text = torch.LongTensor([[ID]]).to(device)\n",
    "      prediction, hidden = model.forward(text, hidden)\n",
    "      ID = torch.argmax(prediction).item()\n",
    "      strings.append(TEXT.vocab.itos[ID])\n",
    "\n",
    "    ### END OF YOUR CODE \n",
    "    print(strings)    "
   ]
  },
  {
   "cell_type": "code",
   "execution_count": null,
   "metadata": {
    "colab": {
     "base_uri": "https://localhost:8080/"
    },
    "id": "B6ibLaoczFgc",
    "outputId": "a813a39e-bdca-4011-b2c2-de9f9d94d6f6"
   },
   "outputs": [
    {
     "name": "stdout",
     "output_type": "stream",
     "text": [
      "35\n",
      "0\n",
      "0\n",
      "0\n",
      "0\n",
      "0\n",
      "0\n",
      "0\n",
      "0\n",
      "0\n",
      "0\n",
      "0\n",
      "0\n",
      "0\n",
      "0\n",
      "0\n",
      "0\n",
      "0\n",
      "0\n",
      "0\n",
      "0\n",
      "0\n",
      "0\n",
      "0\n",
      "0\n",
      "0\n",
      "0\n",
      "0\n",
      "0\n",
      "0\n",
      "0\n",
      "0\n",
      "0\n",
      "0\n",
      "0\n",
      "0\n",
      "0\n",
      "0\n",
      "0\n",
      "0\n",
      "0\n",
      "0\n",
      "0\n",
      "0\n",
      "0\n",
      "0\n",
      "0\n",
      "0\n",
      "0\n",
      "0\n",
      "0\n",
      "0\n",
      "0\n",
      "0\n",
      "0\n",
      "0\n",
      "0\n",
      "0\n",
      "0\n",
      "0\n",
      "0\n",
      "0\n",
      "0\n",
      "0\n",
      "0\n",
      "['he', '<unk>', '<unk>', '<unk>', '<unk>', '<unk>', '<unk>', '<unk>', '<unk>', '<unk>', '<unk>', '<unk>', '<unk>', '<unk>', '<unk>', '<unk>', '<unk>', '<unk>', '<unk>', '<unk>', '<unk>', '<unk>', '<unk>', '<unk>', '<unk>', '<unk>', '<unk>', '<unk>', '<unk>', '<unk>', '<unk>', '<unk>', '<unk>', '<unk>', '<unk>', '<unk>', '<unk>', '<unk>', '<unk>', '<unk>', '<unk>', '<unk>', '<unk>', '<unk>', '<unk>', '<unk>', '<unk>', '<unk>', '<unk>', '<unk>', '<unk>', '<unk>', '<unk>', '<unk>', '<unk>', '<unk>', '<unk>', '<unk>', '<unk>', '<unk>', '<unk>', '<unk>', '<unk>', '<unk>', '<unk>']\n"
     ]
    }
   ],
   "source": [
    "word_greedy_search(LM, 'he', 64)"
   ]
  },
  {
   "cell_type": "markdown",
   "metadata": {
    "id": "uuAJCmeNzFgc"
   },
   "source": [
    "#### Review Question: Based on your understanding, can we use the **Bidirectional LSTM** for this language generation (decoding) task? Explain why?"
   ]
  },
  {
   "cell_type": "markdown",
   "metadata": {
    "id": "aTSeKobVzFgd"
   },
   "source": [
    "**write your explanation:** Yes we can use the Bidirectional LSTM since we just need to use one of the directions in the Bidirectional LSTM."
   ]
  },
  {
   "cell_type": "markdown",
   "metadata": {
    "id": "tvDAWKUezFgd"
   },
   "source": [
    "### Question 8 [code][written]\n",
    "- We will use the hidden vectors (the working memory) of LSTM as the contextual embeddings. Implement ``contextual_embedding`` function.\n",
    "- Use the ``contextual_embedding`` function to get the contextual embeddings of the word \"sink\" in four sequences \"wood does not sink in water\", \"a small water leak will sink the ship\", \"there are plates in the kitchen sink\" and \"the kitchen sink was full of dirty dishes\". Then calculate the cosine similarity of \"sink\" from each pair of sequences. Assume that $\\boldsymbol{w}_1$ and $\\boldsymbol{w}_2$ are embeddings of \"sink\" in sequences \"wood does not sink in water\" and \"a small water leak will sink the ship\" respectively. The cosine similarity can be calculated as \n",
    "\n",
    "\\begin{align}\n",
    "similarity = cos(\\theta) = \\frac{\\boldsymbol{w}^{\\rm T}_1\\boldsymbol{w}_2}{||\\boldsymbol{w}_1||_2||\\boldsymbol{w}_2||_2}\n",
    "\\end{align}\n",
    "Give the explanation of the results. "
   ]
  },
  {
   "cell_type": "code",
   "execution_count": null,
   "metadata": {
    "id": "y8BY8XLczFgd"
   },
   "outputs": [],
   "source": [
    "def contextual_embedding(model, sentence):\n",
    "    '''\n",
    "    params: \n",
    "        model: nn.Module --- language model\n",
    "        sentence -- list[str]: list of tokens, e.g., ['I', 'am',...]\n",
    "    return:\n",
    "        embeddings -- numpy array of shape (length of sentence, word embedding size)\n",
    "    '''\n",
    "    model.eval()\n",
    "    hidden = None\n",
    "    \n",
    "    ### YOUR CODE HERE \n",
    "\n",
    "    IDs = [TEXT.vocab.stoi[token] for token in sentence]\n",
    "    text = torch.LongTensor([IDs]).to(device)\n",
    "    prediction, embeddings = model(text)\n",
    "\n",
    "    ### END OF YOUR CODE\n",
    "    return embeddings"
   ]
  },
  {
   "cell_type": "code",
   "execution_count": null,
   "metadata": {
    "id": "LsjIh53UzFgd"
   },
   "outputs": [],
   "source": [
    "sink_seq1 = \"wood does not sink in water\"\n",
    "sink_seq2 = \"a small water leak will sink the ship\"\n",
    "sink_seq3 = \"there are plates in the kitchen sink\"\n",
    "sink_seq4 = \"the kitchen sink was full of dirty dishes\"\n",
    "\n",
    "### YOUR CODE HERE \n",
    "\n",
    "\n",
    "\n",
    "### END OF YOUR CODE\n"
   ]
  },
  {
   "cell_type": "markdown",
   "metadata": {
    "id": "tcLsgALszFge"
   },
   "source": [
    "***write your explanation:***"
   ]
  },
  {
   "cell_type": "markdown",
   "metadata": {
    "id": "ipcKTJ2qzFge"
   },
   "source": [
    "#### Review Question: Based on your understanding, can we use the **Bidirectional LSTM** for this contextual embedding task? Explain why?"
   ]
  },
  {
   "cell_type": "markdown",
   "metadata": {
    "id": "Ol1K3OTMzFge"
   },
   "source": [
    "**write your explanation:**"
   ]
  },
  {
   "cell_type": "markdown",
   "metadata": {
    "id": "cernoBq6CdX9"
   },
   "source": [
    "### Requirements:\n",
    "- This is an individual report.\n",
    "- Complete the code using Python.\n",
    "- List students with whom you have discussed if there are any.\n",
    "- Follow the honor code strictly."
   ]
  },
  {
   "cell_type": "markdown",
   "metadata": {
    "id": "bDOUuC7-CdX-"
   },
   "source": [
    "### Free GPU Resources\n",
    "We suggest that you run neural language models on machines with GPU(s). Google provides the free online platform [Colaboratory](https://colab.research.google.com/notebooks/welcome.ipynb), a research tool for machine learning education and research. It’s a Jupyter notebook environment that requires no setup to use as common packages have been  pre-installed. Google users can have access to a Tesla T4 GPU (approximately 15G memory). Note that when you connect to a GPU-based VM runtime, you are given a maximum of 12 hours at a time on the VM.\n",
    "\n",
    "It is convenient to upload local Jupyter Notebook files and data to Colab, please refer to the [tutorial](https://colab.research.google.com/notebooks/io.ipynb). \n",
    "\n",
    "In addition, Microsoft also provides the online platform [Azure Notebooks](https://notebooks.azure.com/help/introduction) for research of data science and machine learning, there are free trials for new users with credits."
   ]
  }
 ],
 "metadata": {
  "accelerator": "GPU",
  "colab": {
   "collapsed_sections": [
    "cernoBq6CdX9",
    "bDOUuC7-CdX-"
   ],
   "name": "mini_project.ipynb",
   "provenance": []
  },
  "kernelspec": {
   "display_name": "Python 3 (ipykernel)",
   "language": "python",
   "name": "python3"
  },
  "language_info": {
   "codemirror_mode": {
    "name": "ipython",
    "version": 3
   },
   "file_extension": ".py",
   "mimetype": "text/x-python",
   "name": "python",
   "nbconvert_exporter": "python",
   "pygments_lexer": "ipython3",
   "version": "3.8.10"
  },
  "vscode": {
   "interpreter": {
    "hash": "81794d4967e6c3204c66dcd87b604927b115b27c00565d3d43f05ba2f3a2cb0d"
   }
  }
 },
 "nbformat": 4,
 "nbformat_minor": 1
}
