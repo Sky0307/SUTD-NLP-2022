{
  "cells": [
    {
      "cell_type": "markdown",
      "metadata": {
        "id": "pf_8OI34CdXU"
      },
      "source": [
        "<img src=\"images/sutd.png\" alt=\"drawing\" style=\"width:300px;\"/>\n",
        "\n",
        "## <center>50.040 Natural Language Processing, Summer 2021<center>\n",
        "    \n",
        "<center>**Due 17 June 2021, 5pm** <center>\n",
        "Mini Project"
      ]
    },
    {
      "cell_type": "markdown",
      "metadata": {
        "id": "YAN5MA5GCdXU"
      },
      "source": [
        "**Write your student ID and name**\n",
        "\n",
        "\n",
        "### STUDENT ID: 1004365 \n",
        "\n",
        "### Name: Lee Jet Xuen\n",
        "\n",
        "### Students with whom you have discussed (if any):    \n",
        "1. Tay Sze Chang 1004301\n",
        "2. Brandon Chong Wah Jin 1004104"
      ]
    },
    {
      "cell_type": "markdown",
      "metadata": {
        "id": "V0iF5uWcCdXV"
      },
      "source": [
        "# Introduction\n",
        "\n",
        "Language models are very useful for a wide range of applications, e.g., speech recognition and machine translation. Consider a sentence consisting of words $x_1, x_2, …, x_m$, where $m$ is the length of the sentence, the goal of language modeling is to model the probability of the sentence, where $m \\geq 1$, $x_i \\in V $ and $V$ is the vocabulary of the corpus:\n",
        "$$p(x_1, x_2, …, x_m)$$\n",
        "In this project, we are going to explore both statistical language model and neural language model on the [Wikitext-2](https://blog.einstein.ai/the-wikitext-long-term-dependency-language-modeling-dataset/) datasets. Download wikitext-2 word-level data and put it under the ``data`` folder.\n",
        "\n",
        "## Statistical  Language Model\n",
        "\n",
        "A simple way is to view words as independent random variables (i.e., zero-th order Markovian assumption). The joint probability can be written as:\n",
        "$$p(x_1, x_2, …, x_m)=\\prod_{i=1}^m p(x_i)$$\n",
        "However, this model ignores the word order information, to account for which, under the first-order Markovian assumption, the joint probability can be written as:\n",
        "$$p(x_0, x_1, x_2, …, x_{m})= \\prod_{i=1}^{m}p(x_i \\mid x_{i-1})$$\n",
        "Under the second-order Markovian assumption, the joint probability can be written as:\n",
        "$$p(x_{-1}, x_0, x_1, x_2, …, x_{m})= \\prod_{i=1}^{m}p(x_i \\mid x_{i-2}, x_{i-1})$$\n",
        "Similar to what we did in HMM, we will assume that $x_{-1}=START, x_0=START, x_{m} = STOP$ in this definition, where $START, STOP$ are special symbols referring to the start and the end of a sentence.\n",
        "\n",
        "\n",
        "\n",
        "\n",
        "\n"
      ]
    },
    {
      "cell_type": "markdown",
      "metadata": {
        "id": "F5wC4lqKCdXW"
      },
      "source": [
        "### Parameter estimation\n",
        "\n",
        "Let's use $count(u)$ to denote the number of times the unigram $u$ appears in the corpus, use $count(v, u)$ to denote the number of times the bigram $v, u$ appears in the corpus, and $count(w, v, u)$ the times the trigram $w, v, u$ appears in the corpus, $u \\in V \\cup STOP$ and $w, v \\in V \\cup START$.\n",
        "\n",
        "And the parameters of the unigram, bigram and trigram models can be obtained using maximum likelihood estimation (MLE).\n",
        "\n",
        "- In the unigram model, the parameters can be estimated as: $$p(u) = \\frac {count(u)}{c}$$, where $c$ is the total number of words in the corpus.\n",
        "- In the bigram model, the parameters can be estimated as:\n",
        "$$p(u \\mid v) = \\frac{count(v, u)}{count(v)}$$\n",
        "- In the trigram model, the parameters can be estimated as:\n",
        "$$p(u \\mid w, v) = \\frac{count(w, v, u)}{count(w, v)}$$\n",
        "\n",
        "\n"
      ]
    },
    {
      "cell_type": "markdown",
      "metadata": {
        "id": "C7dks8t0CdXW"
      },
      "source": [
        "### Smoothing the parameters\n",
        "#### Add-k Smoothing\n",
        "Note, it is likely that many parameters of bigram and trigram models will be 0 because the relevant bigrams and trigrams involved do not appear in the corpus. If you don't have a way to handle these 0 probabilities, all the sentences that include such bigrams or trigrams will have probabilities of 0.\n",
        "\n",
        "We'll use a Add-k Smoothing method to fix this problem, the smoothed parameters can be estimated as:\n",
        "\\begin{equation}\n",
        "p_{add-k}(u)= \\frac{count(u)+k}{c+k|V^*|}\n",
        "\\end{equation}\n",
        "\\begin{equation}\n",
        "p_{add-k}(u \\mid v)= \\frac{count(v, u)+k}{count(v)+k|V^*|}\n",
        "\\end{equation}\n",
        "\\begin{equation}\n",
        "p_{add-k}(u \\mid w, v)= \\frac{count(w, v, u)+k}{count(w, v)+k|V^*|}\n",
        "\\end{equation}\n",
        "\n",
        "where $k \\in (0, 1)$ is the parameter of this approach, and $|V^*|$ is the size of the vocabulary $V^*$, here $V^*= V \\cup STOP$. One way to choose the value of $k$ is by\n",
        "optimizing the perplexity of the development set, namely to choose the value that minimizes the perplexity.\n",
        "#### Interpolation\n",
        "There is another way for smoothing which is named as **interpolation**. In interpolation, we always mix the probability estimates from\n",
        "all the n-gram estimators, weighing and combining the trigram, bigram, and unigram counts. In simple linear interpolation, we combine different order n-grams by linearly interpolating all the models. Thus, we estimate the trigram probability $p(w_n|w_{n-2},w_{n-1})$ by mixing together the unigram, bigram, and trigram probabilities, each weighted by a $\\lambda$:\n",
        "\\begin{align}\n",
        "\\hat{p}(w_n|w_{n-2},w_{n-1}) = \\lambda_1p(w_n|w_{n-2},w_{n-1})+\\lambda_2p(w_n|w_{n-1})+\\lambda_3p(w_n)\n",
        "\\end{align}\n",
        "such that the $\\lambda$s sum to 1:\n",
        "\\begin{align}\n",
        "\\sum_i\\lambda_i=1\n",
        "\\end{align}\n",
        "In addition, $\\lambda_1,\\lambda_2,\\lambda_3\\geq 0$."
      ]
    },
    {
      "cell_type": "markdown",
      "metadata": {
        "id": "SNVha_8UCdXX"
      },
      "source": [
        "### Perplexity\n",
        "\n",
        "Given a test set $D^{\\prime}$ consisting of sentences $X^{(1)}, X^{(2)}, …, X^{(|D^{\\prime}|)}$, each sentence $X^{(j)}$ consists of words $x_1^{(j)}, x_2^{(j)},…,x_{n_j}^{(j)}$, we can measure the probability of each sentence $X^{(j)}$, and the quality of the language model would be the probability it assigns to the entire set of test sentences, namely:\n",
        "\\begin{equation} \n",
        "\\prod_{j=1}^{|D^{\\prime}|}p(X^{(j)})\n",
        "\\end{equation}\n",
        "Let's define average $log_2$ probability as:\n",
        "\\begin{equation} \n",
        "l=\\frac{1}{c^{\\prime}}\\sum_{j=1}^{|D^{\\prime}|}log_2p(X^{(j)})\n",
        "\\end{equation}\n",
        "$c^{\\prime}$ is the total number of words in the test set, $|D^{\\prime}|$ is the number of sentences. And the perplexity is defined as:\n",
        "\\begin{equation} \n",
        "perplexity=2^{-l}\n",
        "\\end{equation}\n",
        "\n",
        "The lower the perplexity, the better the language model."
      ]
    },
    {
      "cell_type": "code",
      "source": [
        "from google.colab import drive\n",
        "drive.mount('/content/drive')\n",
        "%cd drive/MyDrive/nlp_mini_project"
      ],
      "metadata": {
        "colab": {
          "base_uri": "https://localhost:8080/"
        },
        "id": "wsKHiWAhnFOJ",
        "outputId": "f03f06fa-b040-4d6d-ab6b-33d604798b04"
      },
      "execution_count": 1,
      "outputs": [
        {
          "output_type": "stream",
          "name": "stdout",
          "text": [
            "Drive already mounted at /content/drive; to attempt to forcibly remount, call drive.mount(\"/content/drive\", force_remount=True).\n",
            "/content/drive/MyDrive/nlp_mini_project\n"
          ]
        }
      ]
    },
    {
      "cell_type": "code",
      "execution_count": 2,
      "metadata": {
        "id": "x6dp0sHHm_zQ"
      },
      "outputs": [],
      "source": [
        "from collections import Counter, namedtuple, defaultdict\n",
        "from nltk import ngrams\n",
        "import itertools\n",
        "import numpy as np\n",
        "import sys"
      ]
    },
    {
      "cell_type": "code",
      "execution_count": 3,
      "metadata": {
        "id": "xRnRuMPOm_zT"
      },
      "outputs": [],
      "source": [
        "with open(\"./data/wikitext-2/wiki.train.tokens\", 'r', encoding='utf8') as f:\n",
        "    text = f.readlines()\n",
        "    train_sents = [line.lower().strip('\\n').split() for line in text]\n",
        "    train_sents = [s for s in train_sents if len(s)>0 and s[0] != '=']"
      ]
    },
    {
      "cell_type": "code",
      "execution_count": 4,
      "metadata": {
        "colab": {
          "base_uri": "https://localhost:8080/"
        },
        "id": "RiMCzh52m_zU",
        "outputId": "cd4feb0c-b50a-4b68-a833-ff8e33346606"
      },
      "outputs": [
        {
          "output_type": "stream",
          "name": "stdout",
          "text": [
            "['the', 'game', 'began', 'development', 'in', '2010', ',', 'carrying', 'over', 'a', 'large', 'portion', 'of', 'the', 'work', 'done', 'on', 'valkyria', 'chronicles', 'ii', '.', 'while', 'it', 'retained', 'the', 'standard', 'features', 'of', 'the', 'series', ',', 'it', 'also', 'underwent', 'multiple', 'adjustments', ',', 'such', 'as', 'making', 'the', 'game', 'more', '<unk>', 'for', 'series', 'newcomers', '.', 'character', 'designer', '<unk>', 'honjou', 'and', 'composer', 'hitoshi', 'sakimoto', 'both', 'returned', 'from', 'previous', 'entries', ',', 'along', 'with', 'valkyria', 'chronicles', 'ii', 'director', 'takeshi', 'ozawa', '.', 'a', 'large', 'team', 'of', 'writers', 'handled', 'the', 'script', '.', 'the', 'game', \"'s\", 'opening', 'theme', 'was', 'sung', 'by', 'may', \"'n\", '.']\n"
          ]
        }
      ],
      "source": [
        "print(train_sents[1])"
      ]
    },
    {
      "cell_type": "markdown",
      "metadata": {
        "id": "G0vxL-WpCdXX"
      },
      "source": [
        "### Question 1 [code]\n",
        "1. Implement the function **\"compute_ngram\"** that computes n-grams in the corpus.\n",
        " (Do not take the START and STOP symbols into consideration for now.) \n",
        "2. List 10 most frequent unigrams, bigrams and trigrams as well as their counts.(Hint: use the built-in function .most_common in Counter class)"
      ]
    },
    {
      "cell_type": "code",
      "execution_count": 5,
      "metadata": {
        "id": "TOyoT-QiCdXY"
      },
      "outputs": [],
      "source": [
        "def compute_ngram(sents, n):\n",
        "    '''\n",
        "    Compute n-grams that appear in \"sents\".\n",
        "    param:\n",
        "        sents: list[list[str]] --- list of list of word strings\n",
        "        n: int --- \"n\" gram\n",
        "    return:\n",
        "        ngram_set: set{str} --- a set of n-grams (no duplicate elements)\n",
        "        ngram_dict: dict{ngram: counts} --- a dictionary that maps each ngram to its number occurence in \"sents\";\n",
        "        This dict contains the parameters of our ngram model. E.g. if n=2, ngram_dict={('a','b'):10, ('b','c'):13}\n",
        "        \n",
        "        You may need to use \"Counter\", \"tuple\" function here.\n",
        "    '''\n",
        "    ngram_set = None\n",
        "    ngram_dict = None\n",
        "    ### YOUR CODE HERE\n",
        "    \n",
        "    ngram_set = set()\n",
        "    ngram_dict = defaultdict(int)\n",
        "    \n",
        "    for word in sents:\n",
        "        for i in range(len(word)-n+1):\n",
        "            ngram_set.add(tuple(word[i: i+n]))\n",
        "            ngram_dict[tuple(word[i: i+n])] += 1\n",
        "\n",
        "    ngram_dict = Counter(ngram_dict)\n",
        "    \n",
        "    ### END OF YOUR CODE\n",
        "    return ngram_set, ngram_dict"
      ]
    },
    {
      "cell_type": "code",
      "execution_count": 6,
      "metadata": {
        "colab": {
          "base_uri": "https://localhost:8080/"
        },
        "id": "wR5j5Yz2m_zZ",
        "outputId": "eaa12526-b8d1-44f5-c68a-f108c16c1b82"
      },
      "outputs": [
        {
          "output_type": "stream",
          "name": "stdout",
          "text": [
            "unigram: 28910\n",
            "bigram: 577343\n",
            "trigram: 1344047\n"
          ]
        }
      ],
      "source": [
        "unigram_set, unigram_dict = compute_ngram(train_sents, 1)\n",
        "print('unigram: %d' %(len(unigram_set)))\n",
        "bigram_set, bigram_dict = compute_ngram(train_sents, 2)\n",
        "print('bigram: %d' %(len(bigram_set)))\n",
        "trigram_set, trigram_dict = compute_ngram(train_sents, 3)\n",
        "print('trigram: %d' %(len(trigram_set)))"
      ]
    },
    {
      "cell_type": "code",
      "execution_count": 7,
      "metadata": {
        "colab": {
          "base_uri": "https://localhost:8080/"
        },
        "id": "orZUpb-2m_zZ",
        "outputId": "431c1527-e550-4bbf-c26f-0df69d146942"
      },
      "outputs": [
        {
          "output_type": "stream",
          "name": "stdout",
          "text": [
            "~~~~~~~~~~~~~~~~~~~~~~~~~~~~~~~~~~~~~~~~~~~~~~~~~~~~~~~~~~~~~~~~~~~~~~~~~~~~~~~~~~~~~~~~~~~~~~~~~~~~~~~~~~~~~~~~~~~~~\n",
            "unigram:\n",
            "[(('the',), 130519), ((',',), 99763), (('.',), 73388), (('of',), 56743), (('<unk>',), 53951), (('and',), 49940), (('in',), 44876), (('to',), 39462), (('a',), 36140), (('\"',), 28285)]\n",
            "~~~~~~~~~~~~~~~~~~~~~~~~~~~~~~~~~~~~~~~~~~~~~~~~~~~~~~~~~~~~~~~~~~~~~~~~~~~~~~~~~~~~~~~~~~~~~~~~~~~~~~~~~~~~~~~~~~~~~\n",
            "bigram:\n",
            "[(('of', 'the'), 17242), (('in', 'the'), 11778), ((',', 'and'), 11643), (('.', 'the'), 11274), ((',', 'the'), 8024), (('<unk>', ','), 7698), (('to', 'the'), 6009), (('on', 'the'), 4495), (('the', '<unk>'), 4389), (('and', 'the'), 4331)]\n",
            "~~~~~~~~~~~~~~~~~~~~~~~~~~~~~~~~~~~~~~~~~~~~~~~~~~~~~~~~~~~~~~~~~~~~~~~~~~~~~~~~~~~~~~~~~~~~~~~~~~~~~~~~~~~~~~~~~~~~~\n",
            "trigram:\n",
            "[((',', 'and', 'the'), 1393), ((',', '<unk>', ','), 950), (('<unk>', ',', '<unk>'), 901), (('one', 'of', 'the'), 866), (('<unk>', ',', 'and'), 819), (('.', 'however', ','), 775), (('<unk>', '<unk>', ','), 745), (('.', 'in', 'the'), 726), (('.', 'it', 'was'), 698), (('the', 'united', 'states'), 666)]\n",
            "~~~~~~~~~~~~~~~~~~~~~~~~~~~~~~~~~~~~~~~~~~~~~~~~~~~~~~~~~~~~~~~~~~~~~~~~~~~~~~~~~~~~~~~~~~~~~~~~~~~~~~~~~~~~~~~~~~~~~\n"
          ]
        }
      ],
      "source": [
        "# List 10 most frequent unigrams, bigrams and trigrams as well as their counts.\n",
        "### YOUR CODE HERE\n",
        "print(\"~\" * 117)\n",
        "print(\"unigram:\")\n",
        "print(unigram_dict.most_common(10))\n",
        "print(\"~\" * 117)\n",
        "print(\"bigram:\")\n",
        "print(bigram_dict.most_common(10))\n",
        "print(\"~\" * 117)\n",
        "print(\"trigram:\")\n",
        "print(trigram_dict.most_common(10))\n",
        "print(\"~\" * 117)\n",
        "### END OF YOUR CODE"
      ]
    },
    {
      "cell_type": "markdown",
      "metadata": {
        "id": "PVpoDgU7CdXb"
      },
      "source": [
        "### Question 2 [code]\n",
        "In this part, we take the START and STOP symbols into consideration. So we need to pad the **train_sents** as described in \"Statistical Language Model\" before we apply \"compute_ngram\" function. For example, given a sentence \"I like NLP\", in a bigram model, we need to pad it as \"START I like NLP STOP\", in a trigram model, we need to pad it as \"START START I like NLP STOP\". For unigram model, it should be paded as \"I like NLP STOP\".\n",
        "\n",
        "1. Implement the ``pad_sents`` function.\n",
        "2. Pad ``train_sents``.\n",
        "3. Apply ``compute_ngram`` function to these padded sents.\n",
        "4. Implement ``ngram_prob`` function. Compute the probability for each n-gram in the variable **ngrams** according equations in **\"Parameter estimation\"**. List down the n-grams that have 0 probability. \n",
        "\n"
      ]
    },
    {
      "cell_type": "code",
      "execution_count": 8,
      "metadata": {
        "colab": {
          "base_uri": "https://localhost:8080/"
        },
        "id": "ZMr4Dig3m_zb",
        "outputId": "5e2a7287-315f-40a2-eda7-1674615682a2"
      },
      "outputs": [
        {
          "output_type": "stream",
          "name": "stdout",
          "text": [
            "[['the', 'computer'], ['go', 'to'], ['have', 'had'], ['and', 'the'], ['can', 'sea'], ['a', 'number', 'of'], ['with', 'respect', 'to'], ['in', 'terms', 'of'], ['not', 'good', 'bad'], ['first', 'start', 'with']]\n"
          ]
        }
      ],
      "source": [
        "###############################################\n",
        "ngrams = list()\n",
        "with open('data/ngram.txt','r') as f:\n",
        "    for line in f:\n",
        "        ngrams.append(line.strip('\\n').split())\n",
        "print(ngrams)\n",
        "###############################################"
      ]
    },
    {
      "cell_type": "code",
      "execution_count": 9,
      "metadata": {
        "id": "uOFX2yVTm_zb"
      },
      "outputs": [],
      "source": [
        "START = '<START>'\n",
        "STOP = '<STOP>'\n",
        "###################################\n",
        "def pad_sents(sents, n):\n",
        "    '''\n",
        "    Pad the sents according to n.\n",
        "    params:\n",
        "        sents: list[list[str]] --- list of sentences.\n",
        "        n: int --- specify the padding type, 1-gram, 2-gram, or 3-gram.\n",
        "    return:\n",
        "        padded_sents: list[list[str]] --- list of padded sentences.\n",
        "    '''\n",
        "    padded_sents = []\n",
        "    ### YOUR CODE HERE\n",
        "    \n",
        "    for sent in sents:\n",
        "        new_sent = sent[:]\n",
        "        \n",
        "        if n == 1:\n",
        "            new_sent.append(START)\n",
        "        \n",
        "        elif n == 2:\n",
        "            new_sent.append(STOP)\n",
        "            new_sent.insert(0, START)\n",
        "        \n",
        "        elif n == 3:\n",
        "            new_sent.append(STOP)\n",
        "            new_sent.insert(0, START)\n",
        "            new_sent.insert(0, START)\n",
        "        \n",
        "        padded_sents.append(new_sent)\n",
        "#     \n",
        "    ### END OF YOUR CODE\n",
        "    return padded_sents"
      ]
    },
    {
      "cell_type": "code",
      "execution_count": 10,
      "metadata": {
        "id": "1aFRQd5Am_zc"
      },
      "outputs": [],
      "source": [
        "uni_sents = pad_sents(train_sents, 1)\n",
        "bi_sents = pad_sents(train_sents, 2)\n",
        "tri_sents = pad_sents(train_sents, 3)"
      ]
    },
    {
      "cell_type": "code",
      "execution_count": 11,
      "metadata": {
        "id": "kt5dz3gvm_zc"
      },
      "outputs": [],
      "source": [
        "unigram_set, unigram_dict = compute_ngram(uni_sents, 1)\n",
        "bigram_set, bigram_dict = compute_ngram(bi_sents, 2)\n",
        "trigram_set, trigram_dict = compute_ngram(tri_sents, 3)"
      ]
    },
    {
      "cell_type": "code",
      "execution_count": 12,
      "metadata": {
        "colab": {
          "base_uri": "https://localhost:8080/"
        },
        "id": "EgbVaC_Sm_zd",
        "outputId": "2892c817-6850-4497-be2e-54086c6e8913"
      },
      "outputs": [
        {
          "output_type": "execute_result",
          "data": {
            "text/plain": [
              "(28911, 580825, 1363266)"
            ]
          },
          "metadata": {},
          "execution_count": 12
        }
      ],
      "source": [
        "len(unigram_set),len(bigram_set),len(trigram_set)"
      ]
    },
    {
      "cell_type": "code",
      "execution_count": 13,
      "metadata": {
        "colab": {
          "base_uri": "https://localhost:8080/"
        },
        "id": "vEYTdjuPm_zd",
        "outputId": "6bdf41c9-9cca-415a-fa3f-f5bdee11f05a"
      },
      "outputs": [
        {
          "output_type": "stream",
          "name": "stdout",
          "text": [
            "2024702\n"
          ]
        }
      ],
      "source": [
        "num_words = sum([v for _,v in unigram_dict.items()])\n",
        "print(num_words)"
      ]
    },
    {
      "cell_type": "code",
      "execution_count": 14,
      "metadata": {
        "id": "ptZ_8JR1m_zd"
      },
      "outputs": [],
      "source": [
        "def ngram_prob(ngram, num_words, unigram_dic, bigram_dic, trigram_dic):\n",
        "    '''\n",
        "    params:\n",
        "        ngram: list[str] --- a list that represents n-gram\n",
        "        num_words: int --- total number of words\n",
        "        unigram_dic: dict{ngram: counts} --- a dictionary that maps each 1-gram to its number of occurences in \"sents\";\n",
        "        bigram_dic: dict{ngram: counts} --- a dictionary that maps each 2-gram to its number of occurence in \"sents\";\n",
        "        trigram_dic: dict{ngram: counts} --- a dictionary that maps each 3-gram to its number occurence in \"sents\";\n",
        "    return:\n",
        "        prob: float --- probability of the \"ngram\"\n",
        "    '''\n",
        "    prob = None\n",
        "    ### YOUR CODE HERE\n",
        "    \n",
        "    n = len(ngram)\n",
        "\n",
        "    try:\n",
        "        if n == 1:\n",
        "            u = tuple(ngram)\n",
        "            prob = unigram_dic[u]/num_words\n",
        "\n",
        "        elif n == 2:\n",
        "            bi = tuple(ngram)\n",
        "            uni = tuple([ngram[1]])\n",
        "            num = bigram_dic[bi]\n",
        "            deno = unigram_dic[uni]\n",
        "            prob = num/deno\n",
        "\n",
        "        elif n == 3:\n",
        "            tri = tuple(ngram)\n",
        "            bi = tuple(ngram[1:])\n",
        "            num = trigram_dic[tri]\n",
        "            deno = bigram_dic[bi]\n",
        "            prob = num/deno\n",
        "    except ZeroDivisionError:\n",
        "        return 0\n",
        "\n",
        "    ### END OF YOUR CODE\n",
        "    return prob"
      ]
    },
    {
      "cell_type": "code",
      "execution_count": 15,
      "metadata": {
        "colab": {
          "base_uri": "https://localhost:8080/"
        },
        "id": "fkQDED9xm_zf",
        "outputId": "74abd5b6-66bd-411b-c7d9-fcbc5133a497"
      },
      "outputs": [
        {
          "output_type": "execute_result",
          "data": {
            "text/plain": [
              "0.0962962962962963"
            ]
          },
          "metadata": {},
          "execution_count": 15
        }
      ],
      "source": [
        "ngram_prob(ngrams[0], num_words, unigram_dict, bigram_dict, trigram_dict)"
      ]
    },
    {
      "cell_type": "code",
      "execution_count": 16,
      "metadata": {
        "colab": {
          "base_uri": "https://localhost:8080/"
        },
        "id": "ZicDW96nm_zk",
        "outputId": "af61206f-60c0-41cd-86a0-1f553b7626e4"
      },
      "outputs": [
        {
          "output_type": "stream",
          "name": "stdout",
          "text": [
            "['can', 'sea']\n",
            "['not', 'good', 'bad']\n",
            "['first', 'start', 'with']\n"
          ]
        }
      ],
      "source": [
        "### List down the n-grams that have 0 probability. \n",
        "### YOUR CODE HERE\n",
        "for ngram in ngrams:\n",
        "    if ngram_prob(ngram, num_words, unigram_dict, bigram_dict, trigram_dict) == 0:\n",
        "        print(ngram)\n",
        "### END OF YOUR CODE"
      ]
    },
    {
      "cell_type": "markdown",
      "metadata": {
        "id": "2kAezpJ9CdXd"
      },
      "source": [
        "### Question 3 [code]\n",
        "\n",
        "1. Implement ``add_k_smoothing_ngram`` function to estimate ngram probability with ``add-k`` smoothing technique.\n",
        "2. Implement ``interpolation_ngram`` function to estimate ngram probability with ``interpolation`` smoothing technique.\n",
        "3. Implement ``perplexity`` function to compute the perplexity of the corpus \"**valid_sents**\" according to \"**Perplexity**\" section. The computation of $p(X^{(j)})$ depends on the n-gram model you choose."
      ]
    },
    {
      "cell_type": "code",
      "execution_count": 17,
      "metadata": {
        "id": "JEZ17Ea-m_zk"
      },
      "outputs": [],
      "source": [
        "with open('data/wikitext-2/wiki.valid.tokens', 'r', encoding='utf8') as f:\n",
        "    text = f.readlines()\n",
        "    valid_sents = [line.lower().strip('\\n').split() for line in text]\n",
        "    valid_sents = [s for s in valid_sents if len(s)>0 and s[0] != '=']\n",
        "\n",
        "uni_valid_sents = pad_sents(valid_sents, 1)\n",
        "bi_valid_sents = pad_sents(valid_sents, 2)\n",
        "tri_valid_sents = pad_sents(valid_sents, 3)"
      ]
    },
    {
      "cell_type": "code",
      "execution_count": 18,
      "metadata": {
        "id": "FZ0-V5a2m_zl"
      },
      "outputs": [],
      "source": [
        "def add_k_smoothing_ngram(ngram, k, num_words, unigram_dic, bigram_dic, trigram_dic):\n",
        "    '''\n",
        "    params:\n",
        "        ngram: list[str] --- a list that represents n-gram\n",
        "        k: float \n",
        "        num_words: int --- total number of words\n",
        "        unigram_dic: dict{ngram: counts} --- a dictionary that maps each 1-gram to its number of occurences in \"sents\";\n",
        "        bigram_dic: dict{ngram: counts} --- a dictionary that maps each 2-gram to its number of occurence in \"sents\";\n",
        "        trigram_dic: dict{ngram: counts} --- a dictionary that maps each 3-gram to its number occurence in \"sents\";\n",
        "    return:\n",
        "        s_prob: float --- probability of the \"ngram\"\n",
        "    '''\n",
        "    s_prob = None\n",
        "    V = len(unigram_dic)\n",
        "    ### YOUR CODE HERE\n",
        "\n",
        "    num = len(ngram)\n",
        "    try:\n",
        "      if num == 1:\n",
        "          uni = tuple(ngram)\n",
        "          nume = unigram_dic[uni] + k\n",
        "          deno = num_words + k * V\n",
        "          s_prob = nume / deno\n",
        "\n",
        "      elif num == 2:\n",
        "          bi = tuple(ngram)\n",
        "          uni = tuple([ngram[1]])\n",
        "          nume = bigram_dic[bi] + k\n",
        "          deno = unigram_dic[uni] + k * V\n",
        "          s_prob = nume / deno\n",
        "\n",
        "      elif num == 3:\n",
        "          tri = tuple(ngram)\n",
        "          bi = tuple(ngram[1:])\n",
        "          nume = trigram_dic[tri] + k\n",
        "          deno = bigram_dic[bi] + k * V\n",
        "          s_prob = nume / deno\n",
        "\n",
        "    except ZeroDivisionError:\n",
        "        return 0\n",
        "\n",
        "    ### END OF YOUR CODE\n",
        "    return s_prob"
      ]
    },
    {
      "cell_type": "code",
      "execution_count": 19,
      "metadata": {
        "id": "Vvys_RtIm_zl"
      },
      "outputs": [],
      "source": [
        "def interpolation_ngram(ngram, lam, num_words, unigram_dic, bigram_dic, trigram_dic):\n",
        "    '''\n",
        "    params:\n",
        "        ngram: list[str] --- a list that represents n-gram\n",
        "        lam: list[float] --- a list of length 3.lam[0], lam[1] and lam[2] are correspondence to trigram, bigram and unigram,repectively.\n",
        "                             If len(ngram) == 1, lam[0]=lam[1]=0, lam[2]=1. If len(ngram) == 2, lam[0]=0. lam[0]+lam[1]+lam[2] = 1.\n",
        "        num_words: int --- total number of words\n",
        "        unigram_dic: dict{ngram: counts} --- a dictionary that maps each 1-gram to its number of occurences in \"sents\";\n",
        "        bigram_dic: dict{ngram: counts} --- a dictionary that maps each 2-gram to its number of occurence in \"sents\";\n",
        "        trigram_dic: dict{ngram: counts} --- a dictionary that maps each 3-gram to its number occurence in \"sents\";\n",
        "    return:\n",
        "        s_prob: float --- probability of the \"ngram\"\n",
        "    '''\n",
        "    s_prob = None\n",
        "    ### YOUR CODE HERE\n",
        "    num = len(ngram)\n",
        "    \n",
        "    if num == 1:\n",
        "        u = tuple(ngram)\n",
        "        s_prob = unigram_dic[u]/num_words\n",
        "\n",
        "    elif num == 2:\n",
        "        bi_num = tuple(ngram)\n",
        "        uni_deno = tuple([ngram[1]])\n",
        "        bi = bigram_dic[bi_num] / unigram_dic[uni_deno]\n",
        "\n",
        "        uni_num = tuple([ngram[0]])\n",
        "        uni = unigram_dic[uni_num]/ num_words\n",
        "\n",
        "        s_prob = lam[1] * bi + lam[2] * uni\n",
        "    \n",
        "    elif num == 3:\n",
        "      tri_num = tuple(ngram)\n",
        "      bi_deno = tuple(ngram[1:])\n",
        "      tri = trigram_dic[tri_num]/bigram_dic[bi_deno] \n",
        "\n",
        "      bi_num = tuple(ngram[0:2])\n",
        "      uni_deno = tuple([ngram[0]])\n",
        "      bi = bigram_dic[bi_num]/unigram_dic[uni_deno] \n",
        "\n",
        "      uni_num = tuple([ngram[0]])\n",
        "      uni = unigram_dic[uni_num]/num_words\n",
        "\n",
        "      s_prob = lam[0] * tri +\\\n",
        "               lam[1] * bi +\\\n",
        "               lam[2] * uni\n",
        "      \n",
        "    ### END OF YOUR CODE\n",
        "    return s_prob"
      ]
    },
    {
      "cell_type": "code",
      "execution_count": 20,
      "metadata": {
        "scrolled": true,
        "colab": {
          "base_uri": "https://localhost:8080/"
        },
        "id": "ilmzWsSSm_zm",
        "outputId": "5bc553ca-492b-47ef-bcfc-2592caa78483"
      },
      "outputs": [
        {
          "output_type": "stream",
          "name": "stdout",
          "text": [
            "['a', 'number', 'of']\n",
            "0.3368808402441772 0.2975092541237132\n"
          ]
        }
      ],
      "source": [
        "add_k_prob = add_k_smoothing_ngram(ngrams[5], 0.01, num_words, unigram_dict, bigram_dict, trigram_dict)\n",
        "interpolation_prob = interpolation_ngram(ngrams[5], [0.6,0.3,0.1], num_words, unigram_dict, bigram_dict, trigram_dict)\n",
        "print(ngrams[5])\n",
        "print(add_k_prob, interpolation_prob)"
      ]
    },
    {
      "cell_type": "code",
      "execution_count": 21,
      "metadata": {
        "id": "vLMqNcoIm_zn"
      },
      "outputs": [],
      "source": [
        "def perplexity(n, method, num_words, valid_sents, unigram_dic, bigram_dic, trigram_dic, k=0, lam=[0,0,1]):\n",
        "    '''\n",
        "    params:\n",
        "        n: int --- n-gram model you choose \n",
        "        method: int ---- method == 0, use add_k_smoothing; method != 0, use interpolation method.\n",
        "        num_words: int --- total number of words\n",
        "        valid_sents: list[list[str]] --- list of sentences\n",
        "        unigram_dic: dict{ngram: counts} --- a dictionary that maps each 1-gram to its number of occurences in \"sents\";\n",
        "        bigram_dic: dict{ngram: counts} --- a dictionary that maps each 2-gram to its number of occurence in \"sents\";\n",
        "        trigram_dic: dict{ngram: counts} --- a dictionary that maps each 3-gram to its number occurence in \"sents\";\n",
        "        k: float --- The parameter of add_k_smoothing\n",
        "        lam: list[float] --- a list of length 3. The parameter of interpolation. \n",
        "   return:\n",
        "        ppl: float --- perplexity of valid_sents\n",
        "    '''\n",
        "    ppl = None\n",
        "    ### YOUR CODE HERE\n",
        "\n",
        "    loss = 0\n",
        "    \n",
        "    for s in valid_sents:\n",
        "      ngram_set, ngram_dict = compute_ngram([s], n)\n",
        "      for ngram in ngram_set:\n",
        "        if method == 0:\n",
        "          loss += np.log2(add_k_smoothing_ngram(ngram, k, num_words, unigram_dic, bigram_dic, trigram_dic))\n",
        "        else:\n",
        "          loss += np.log2(interpolation_ngram(ngram, lam, num_words, unigram_dic, bigram_dic, trigram_dic)) \n",
        "\n",
        "    loss = 1/num_words * loss\n",
        "    ppl = np.exp2(-loss)\n",
        "    \n",
        "    ### END OF YOUR CODE\n",
        "    return ppl"
      ]
    },
    {
      "cell_type": "code",
      "execution_count": 22,
      "metadata": {
        "colab": {
          "base_uri": "https://localhost:8080/"
        },
        "id": "I7UBCT2gm_zo",
        "outputId": "b959ce41-56d3-4ef2-c83b-8755d601b37d"
      },
      "outputs": [
        {
          "output_type": "execute_result",
          "data": {
            "text/plain": [
              "1.633207766611748"
            ]
          },
          "metadata": {},
          "execution_count": 22
        }
      ],
      "source": [
        "perplexity(1, 0, num_words, uni_valid_sents, unigram_dict, bigram_dict, trigram_dict, k=0.1, lam=[0,0,1])"
      ]
    },
    {
      "cell_type": "markdown",
      "metadata": {
        "id": "bCfSOfM_m_zo"
      },
      "source": [
        "### Question 4 [code][written]\n",
        "1. Based on add-k smoothing method, try out different $k\\in [ 0.0001, 0.001, 0.01, 0.1, 0.5]$ and different n-gram model (unigram, bigram and trigram). Find the model and $k$ that gives the best perplexity on \"**valid_sents**\" (smaller is better).\n",
        "2. Based on interpolation method, try out different $\\lambda$ where $\\lambda_1 = \\lambda_2$ and $\\lambda_3\\in [0.1, 0.2, 0.4, 0.6, 0.8]$. Find the $\\lambda$ that gives the best perplexity on \"**valid_sents**\" (smaller is better).\n",
        "3. Based on the methods and parameters we provide, choose the method that peforms best on the validation data."
      ]
    },
    {
      "cell_type": "code",
      "execution_count": 23,
      "metadata": {
        "colab": {
          "base_uri": "https://localhost:8080/"
        },
        "id": "hUhYtfNZm_zo",
        "outputId": "24b00a64-2d5b-42f2-84b3-32da8b908b5b"
      },
      "outputs": [
        {
          "output_type": "stream",
          "name": "stdout",
          "text": [
            "n: 1.00000\tk: 0.00010\tppl: 1.6262061644707124\n",
            "n: 2.00000\tk: 0.00010\tppl: 1.9009594911957326\n",
            "n: 3.00000\tk: 0.00010\tppl: 2.286756189006186\n",
            "n: 1.00000\tk: 0.00100\tppl: 1.626205830873074\n",
            "n: 2.00000\tk: 0.00100\tppl: 1.8404684943161416\n",
            "n: 3.00000\tk: 0.00100\tppl: 2.2174616406014214\n",
            "n: 1.00000\tk: 0.01000\tppl: 1.6262025053794784\n",
            "n: 2.00000\tk: 0.01000\tppl: 1.8370860337051367\n",
            "n: 3.00000\tk: 0.01000\tppl: 2.2569516903801032\n",
            "n: 1.00000\tk: 0.10000\tppl: 1.6261702813659682\n",
            "n: 2.00000\tk: 0.10000\tppl: 1.9153013516752593\n",
            "n: 3.00000\tk: 0.10000\tppl: 2.380594422527923\n",
            "n: 1.00000\tk: 0.50000\tppl: 1.626048002285084\n",
            "n: 2.00000\tk: 0.50000\tppl: 2.0173626347004725\n",
            "n: 3.00000\tk: 0.50000\tppl: 2.497675008075584\n",
            "Best configuration:\tn=1\tk=0.5\tppl:1.626048002285084\n"
          ]
        }
      ],
      "source": [
        "n = [1,2,3]\n",
        "k = [0.0001, 0.001, 0.01, 0.1, 0.5]\n",
        "### YOUR CODE HERE (add-k smoothing method)\n",
        "\n",
        "best_result = sys.maxsize\n",
        "best_n = None\n",
        "best_k = None\n",
        "for kidx in k:\n",
        "    for nidx in n:\n",
        "        ppl  = perplexity(nidx, 0, num_words, valid_sents, unigram_dict, bigram_dict, trigram_dict, kidx, lam=[0,0,1])\n",
        "        print(f\"n: {nidx:.5f}\\tk: {kidx:.5f}\\tppl: {ppl}\")\n",
        "        if ppl < best_result:\n",
        "            best_result = ppl\n",
        "            best_k = kidx\n",
        "            best_n = nidx\n",
        "print(f\"Best configuration:\\tn={best_n}\\tk={best_k}\\tppl:{best_result}\")\n",
        "\n",
        "### END OF YOUR CODE"
      ]
    },
    {
      "cell_type": "code",
      "execution_count": 24,
      "metadata": {
        "colab": {
          "base_uri": "https://localhost:8080/"
        },
        "id": "2isio7Zdm_zp",
        "outputId": "ea05058f-6e21-4dae-83a7-39b1b0b522b6"
      },
      "outputs": [
        {
          "output_type": "stream",
          "name": "stdout",
          "text": [
            "Best configuration:\tlamba:[0.09999999999999998, 0.09999999999999998, 0.8]\tppl:1.6262062015488201\n"
          ]
        }
      ],
      "source": [
        "lambda_3 = [0.1, 0.2, 0.4, 0.6, 0.8]\n",
        "### YOUR CODE HERE (interpolation method)\n",
        "\n",
        "best_result = sys.maxsize\n",
        "best_lam = None\n",
        "\n",
        "for lam in lambda_3:\n",
        "    lam_12 = (1 - lam)/2\n",
        "    lamb_list = [lam_12, lam_12, lam]\n",
        "    \n",
        "    result = perplexity(best_n, 1, num_words, valid_sents, unigram_dict, bigram_dict, trigram_dict, k=best_k, lam=lamb_list)\n",
        "    if result < best_result:\n",
        "        best_result = result\n",
        "        best_lam = lamb_list\n",
        "\n",
        "print(f\"Best configuration:\\tlamba:{lamb_list}\\tppl:{best_result}\")\n",
        "\n",
        "### END OF YOUR CODE"
      ]
    },
    {
      "cell_type": "markdown",
      "metadata": {
        "id": "my9Yp_2Sm_zp"
      },
      "source": [
        "Based on the methods and parameters we provide, choose the method that peforms best on the validation data (**write your answer**):     \n",
        "The method that performs best on the validation data is **k-smoothing**, with k = 0.5, and n = 1. The perplexity of k-smoothing method is 1.6260 as compared to the perplexity of interpolation method, 1.6262, with lambda = [0.09999999999999998, 0.09999999999999998, 0.8]"
      ]
    },
    {
      "cell_type": "markdown",
      "metadata": {
        "id": "3o_yjh9lCdXg"
      },
      "source": [
        "### Question 5 [code]\n",
        "\n",
        "Evaluate the perplexity of the test data **test_sents** based on the best model you choose in **Question 4**."
      ]
    },
    {
      "cell_type": "code",
      "execution_count": 25,
      "metadata": {
        "id": "i7hGcXgCCdXg"
      },
      "outputs": [],
      "source": [
        "with open('data/wikitext-2/wiki.test.tokens', 'r', encoding='utf8') as f:\n",
        "    text = f.readlines()\n",
        "    test_sents = [line.lower().strip('\\n').split() for line in text]\n",
        "    test_sents = [s for s in test_sents if len(s)>0 and s[0] != '=']\n",
        "\n",
        "uni_test_sents = pad_sents(test_sents, 1)\n",
        "bi_test_sents = pad_sents(test_sents, 2)\n",
        "tri_test_sents = pad_sents(test_sents, 3)"
      ]
    },
    {
      "cell_type": "code",
      "execution_count": 26,
      "metadata": {
        "colab": {
          "base_uri": "https://localhost:8080/"
        },
        "id": "AmkUgAYUm_zq",
        "outputId": "e012d946-74e7-473b-944c-384166af8ab2"
      },
      "outputs": [
        {
          "output_type": "stream",
          "name": "stdout",
          "text": [
            "Perplexity of the test data for unigram: \t1.7195364564464566\n",
            "Perplexity of the test data for bigram: \t2.1983492534392517\n",
            "Perplexity of the test data for trigram: \t2.8512624014200725\n"
          ]
        }
      ],
      "source": [
        "### YOUR CODE HERE\n",
        "uni_test_ppl = perplexity(1, 0, num_words, uni_test_sents, unigram_dict, bigram_dict, trigram_dict, k=best_k, lam=best_lam)\n",
        "bi_test_ppl = perplexity(2, 0, num_words, bi_test_sents, unigram_dict, bigram_dict, trigram_dict, k=best_k, lam=best_lam)\n",
        "tri_test_ppl = perplexity(3, 0, num_words, tri_test_sents, unigram_dict, bigram_dict, trigram_dict, k=best_k, lam=best_lam)\n",
        "print(f\"Perplexity of the test data for unigram: \\t{uni_test_ppl}\")\n",
        "print(f\"Perplexity of the test data for bigram: \\t{bi_test_ppl}\")\n",
        "print(f\"Perplexity of the test data for trigram: \\t{tri_test_ppl}\")\n",
        "### END OF YOUR CODE"
      ]
    },
    {
      "cell_type": "markdown",
      "metadata": {
        "id": "ePSI8RDWCdXj"
      },
      "source": [
        "## Neural Language Model\n"
      ]
    },
    {
      "cell_type": "markdown",
      "metadata": {
        "id": "jkoTco_jCdXj"
      },
      "source": [
        "<img src=\"images/LM.png\" alt=\"drawing\" style=\"width:500px;\"/>\n",
        "\n",
        "We will create a LSTM language model as shown in figure and train it on the Wikitext-2 dataset. \n",
        "The data generators (train\\_iter, valid\\_iter, test\\_iter) have been provided. \n",
        "The word embeddings together with the parameters in the LSTM model will be learned from scratch.\n",
        "\n",
        "[Pytorch](https://pytorch.org/tutorials/) and [torchtext](https://torchtext.readthedocs.io/en/latest/index.html#) are required in this part. Do not make any changes to the provided code unless you are requested to do so. "
      ]
    },
    {
      "cell_type": "markdown",
      "metadata": {
        "id": "xhBsnp_8m_zq"
      },
      "source": [
        "### Question 6 [code]\n",
        "- Implement the ``__init__`` function in ``LangModel`` class. *Note: the code implementation should allow switching between unidirectional LSTM and bidirectional LSTM easily*\n",
        "- Implement the ``forward`` function in ``LangModel`` class.\n",
        "- Complete the training code in train function and the testing code in test function.\n",
        "- Train two models - **Unidirectional LSTM** and **Bidirectional LSTM**. Compute the perplexity of the test data \"test_iter\" using the trained models. The test perplexity of both trained models should be below 150."
      ]
    },
    {
      "cell_type": "markdown",
      "metadata": {
        "id": "6dlwlDaFm_zr"
      },
      "source": [
        "**Important Note: Make sure that \"torchtext <= 0.11\", as newer version might have torchtext.legacy removed**"
      ]
    },
    {
      "cell_type": "code",
      "execution_count": 27,
      "metadata": {
        "colab": {
          "base_uri": "https://localhost:8080/"
        },
        "id": "_jtzvXY4m_zr",
        "outputId": "6e7d403a-c041-4b10-d6ec-d378f65954bb"
      },
      "outputs": [
        {
          "output_type": "stream",
          "name": "stdout",
          "text": [
            "Looking in indexes: https://pypi.org/simple, https://us-python.pkg.dev/colab-wheels/public/simple/\n",
            "Requirement already satisfied: torchtext==0.10.0 in /usr/local/lib/python3.7/dist-packages (0.10.0)\n",
            "Requirement already satisfied: requests in /usr/local/lib/python3.7/dist-packages (from torchtext==0.10.0) (2.23.0)\n",
            "Requirement already satisfied: tqdm in /usr/local/lib/python3.7/dist-packages (from torchtext==0.10.0) (4.64.0)\n",
            "Requirement already satisfied: torch==1.9.0 in /usr/local/lib/python3.7/dist-packages (from torchtext==0.10.0) (1.9.0)\n",
            "Requirement already satisfied: numpy in /usr/local/lib/python3.7/dist-packages (from torchtext==0.10.0) (1.21.6)\n",
            "Requirement already satisfied: typing-extensions in /usr/local/lib/python3.7/dist-packages (from torch==1.9.0->torchtext==0.10.0) (4.2.0)\n",
            "Requirement already satisfied: urllib3!=1.25.0,!=1.25.1,<1.26,>=1.21.1 in /usr/local/lib/python3.7/dist-packages (from requests->torchtext==0.10.0) (1.24.3)\n",
            "Requirement already satisfied: certifi>=2017.4.17 in /usr/local/lib/python3.7/dist-packages (from requests->torchtext==0.10.0) (2022.5.18.1)\n",
            "Requirement already satisfied: chardet<4,>=3.0.2 in /usr/local/lib/python3.7/dist-packages (from requests->torchtext==0.10.0) (3.0.4)\n",
            "Requirement already satisfied: idna<3,>=2.5 in /usr/local/lib/python3.7/dist-packages (from requests->torchtext==0.10.0) (2.10)\n"
          ]
        }
      ],
      "source": [
        "!pip install -U torchtext==0.10.0"
      ]
    },
    {
      "cell_type": "code",
      "execution_count": 28,
      "metadata": {
        "colab": {
          "base_uri": "https://localhost:8080/"
        },
        "id": "tF2GCRdFCdXk",
        "outputId": "804adf74-37f7-40de-9081-98ea893d4813"
      },
      "outputs": [
        {
          "output_type": "stream",
          "name": "stderr",
          "text": [
            "[nltk_data] Downloading package punkt to /root/nltk_data...\n",
            "[nltk_data]   Package punkt is already up-to-date!\n"
          ]
        },
        {
          "output_type": "execute_result",
          "data": {
            "text/plain": [
              "<torch._C.Generator at 0x7fa8991ae830>"
            ]
          },
          "metadata": {},
          "execution_count": 28
        }
      ],
      "source": [
        "import torchtext\n",
        "import torch\n",
        "import torch.nn.functional as F\n",
        "from torchtext.legacy.datasets import WikiText2\n",
        "from torch import nn, optim\n",
        "from torchtext.legacy import data\n",
        "from nltk import word_tokenize\n",
        "import nltk\n",
        "import numpy as np\n",
        "nltk.download('punkt')\n",
        "torch.manual_seed(222)"
      ]
    },
    {
      "cell_type": "code",
      "execution_count": 29,
      "metadata": {
        "id": "lt6JBdSnCdXn"
      },
      "outputs": [],
      "source": [
        "def tokenizer(text):\n",
        "    '''Tokenize a string to words'''\n",
        "    return word_tokenize(text)\n",
        "\n",
        "START = '<START>'\n",
        "STOP = '<STOP>'\n",
        "#Load and split data into three parts\n",
        "TEXT = data.Field(lower=True, tokenize=tokenizer, init_token=START, eos_token=STOP)\n",
        "train, valid, test = WikiText2.splits(TEXT) "
      ]
    },
    {
      "cell_type": "code",
      "execution_count": 30,
      "metadata": {
        "colab": {
          "base_uri": "https://localhost:8080/"
        },
        "id": "KHwu4VMVCdXq",
        "outputId": "0dcee583-31d6-43c0-aacf-b50a1c2cff4f"
      },
      "outputs": [
        {
          "output_type": "stream",
          "name": "stdout",
          "text": [
            "Vocabulary size: 28907\n"
          ]
        }
      ],
      "source": [
        "#Build a vocabulary from the train dataset\n",
        "TEXT.build_vocab(train)\n",
        "print('Vocabulary size:', len(TEXT.vocab))"
      ]
    },
    {
      "cell_type": "code",
      "execution_count": 31,
      "metadata": {
        "id": "ua9e-OBMCdXs"
      },
      "outputs": [],
      "source": [
        "BATCH_SIZE = 64\n",
        "# the length of a text feeding to the RNN layer\n",
        "BPTT_LEN = 32           \n",
        "# train, validation, test data\n",
        "train_iter, valid_iter, test_iter = data.BPTTIterator.splits((train, valid, test),\n",
        "                                                                batch_size=BATCH_SIZE,\n",
        "                                                                bptt_len=BPTT_LEN,\n",
        "                                                                repeat=False)"
      ]
    },
    {
      "cell_type": "code",
      "execution_count": 32,
      "metadata": {
        "colab": {
          "base_uri": "https://localhost:8080/"
        },
        "id": "6_Cd8shXCdXy",
        "scrolled": true,
        "outputId": "c63790c7-661f-4954-d013-382da29df68c"
      },
      "outputs": [
        {
          "output_type": "stream",
          "name": "stdout",
          "text": [
            "Size of text tensor torch.Size([32, 64])\n",
            "Size of target tensor torch.Size([32, 64])\n"
          ]
        }
      ],
      "source": [
        "#Generate a batch of train data\n",
        "batch = next(iter(train_iter))\n",
        "text, target = batch.text, batch.target\n",
        "print('Size of text tensor',text.size())\n",
        "print('Size of target tensor',target.size())"
      ]
    },
    {
      "cell_type": "code",
      "execution_count": 33,
      "metadata": {
        "id": "Jzsnw0kSm_zs"
      },
      "outputs": [],
      "source": [
        "class LangModel(nn.Module):\n",
        "    def __init__(self, lang_config):\n",
        "        super(LangModel, self).__init__()\n",
        "        self.vocab_size = lang_config['vocab_size']\n",
        "        self.emb_size = lang_config['emb_size']\n",
        "        self.hidden_size = lang_config['hidden_size']\n",
        "        self.num_layer = lang_config['num_layer']\n",
        "        self.bidirectional = lang_config['bidirectional']\n",
        "        \n",
        "        self.embedding = None\n",
        "        self.lstm = None\n",
        "        self.linear = None\n",
        "        \n",
        "        ### TODO: \n",
        "        ###    1. Initialize 'self.embedding' with nn.Embedding function and 2 variables we have initialized for you\n",
        "        ###    2. Initialize 'self.lstm' with nn.LSTM function and 4 variables we have initialized for you \n",
        "        ###    3. Initialize 'self.linear' with nn.Linear function and 2 variables we have initialized for you\n",
        "        ### Reference:\n",
        "        ###        https://pytorch.org/docs/stable/nn.html\n",
        "        \n",
        "        ### YOUR CODE HERE (3 lines)\n",
        "        self.embedding = nn.Embedding(self.vocab_size, self.emb_size)\n",
        "        self.lstm = nn.LSTM(self.emb_size, self.hidden_size, self.num_layer, bidirectional=self.bidirectional)\n",
        "        self.linear = nn.Linear(2*self.hidden_size if self.bidirectional else self.hidden_size, self.vocab_size)\n",
        "\n",
        "        ### END OF YOUR CODE\n",
        "        \n",
        "    def forward(self, batch_sents, hidden=None):\n",
        "        '''\n",
        "        params:\n",
        "            batch_sents: torch.LongTensor of shape (sequence_len, batch_size)\n",
        "        return:\n",
        "            normalized_score: torch.FloatTensor of shape (sequence_len, batch_size, vocab_size)\n",
        "        '''\n",
        "        normalized_score = None\n",
        "        hidden = hidden\n",
        "        ### TODO:\n",
        "        ###      1. Feed the batch_sents to self.embedding  \n",
        "        ###      2. Feed the embeddings to self.lstm. Remember to pass \"hidden\" into self.lstm, even if it is None. But we will \n",
        "        ###         use \"hidden\" when implementing greedy search.\n",
        "        ###      3. Apply linear transformation to the output of self.lstm\n",
        "        ###      4. Apply 'F.log_softmax' to the output of linear transformation\n",
        "        ###\n",
        "        ### YOUR CODE HERE (4 lines)\n",
        "        \n",
        "        x = self.embedding(batch_sents)\n",
        "        out, hidden = self.lstm(x, hidden)\n",
        "        score = self.linear(out)\n",
        "        normalized_score = F.log_softmax(score, dim=-1)\n",
        "        \n",
        "        ### END OF YOUR CODE\n",
        "        return normalized_score, hidden"
      ]
    },
    {
      "cell_type": "code",
      "execution_count": 34,
      "metadata": {
        "id": "8AsDrG1fm_zs"
      },
      "outputs": [],
      "source": [
        "def train(model, train_iter, valid_iter, vocab_size, criterion, optimizer, num_epochs):\n",
        "    for n in range(num_epochs):\n",
        "        train_loss = 0\n",
        "        target_num = 0\n",
        "        model.train()\n",
        "        for batch in train_iter:\n",
        "            \n",
        "            text, targets = batch.text.to(device), batch.target.to(device)\n",
        "            loss = None\n",
        "            \n",
        "            ### we don't consider \"hidden\" here. So according to the default setting, \"hidden\" will be None\n",
        "            ### YOU CODE HERE (~5 lines)\n",
        "            \n",
        "            optimizer.zero_grad()\n",
        "            pred, _ = model(text)\n",
        "            loss = criterion(pred.view(-1, vocab_size), targets.view(-1))\n",
        "            loss.backward()\n",
        "            optimizer.step()\n",
        "\n",
        "            ### END OF YOUR CODE\n",
        "            ##########################################\n",
        "            train_loss += loss.item() * targets.size(0) * targets.size(1)\n",
        "            target_num += targets.size(0) * targets.size(1)\n",
        "\n",
        "        train_loss /= target_num\n",
        "\n",
        "        # monitor the loss of all the predictions\n",
        "        val_loss = 0\n",
        "        target_num = 0\n",
        "        model.eval()\n",
        "        for batch in valid_iter:\n",
        "            text, targets = batch.text.to(device), batch.target.to(device)\n",
        "            \n",
        "            prediction,_ = model(text)\n",
        "            loss = criterion(prediction.view(-1, vocab_size), targets.view(-1))\n",
        "            \n",
        "            val_loss += loss.item() * targets.size(0) * targets.size(1)\n",
        "            target_num += targets.size(0) * targets.size(1)\n",
        "        val_loss /= target_num\n",
        "\n",
        "        print('Epoch: {}, Training Loss: {:.4f}, Validation Loss: {:.4f}'.format(n+1, train_loss, val_loss))   "
      ]
    },
    {
      "cell_type": "code",
      "execution_count": 35,
      "metadata": {
        "id": "utEe7Sa3m_zt"
      },
      "outputs": [],
      "source": [
        "def test(model, vocab_size, criterion, test_iter):\n",
        "    '''\n",
        "    params: \n",
        "        model: LSTM model\n",
        "        test_iter: test data\n",
        "    return:\n",
        "        ppl: perplexity \n",
        "    '''\n",
        "    ppl = None\n",
        "    test_loss = 0\n",
        "    target_num = 0\n",
        "    with torch.no_grad():\n",
        "        for batch in test_iter:\n",
        "            text, targets = batch.text.to(device), batch.target.to(device)\n",
        "\n",
        "            prediction,_ = model(text)\n",
        "            loss = criterion(prediction.view(-1, vocab_size), targets.view(-1))\n",
        "\n",
        "            test_loss += loss.item() * targets.size(0) * targets.size(1)\n",
        "            target_num += targets.size(0) * targets.size(1)\n",
        "\n",
        "        test_loss /= target_num\n",
        "        \n",
        "        ### Compute perplexity according to \"test_loss\"\n",
        "        ### Hint: Consider how the loss is computed.\n",
        "        ### YOUR CODE HERE(1 line)\n",
        "        \n",
        "        ppl = np.exp(test_loss)\n",
        "        \n",
        "        ### END OF YOUR CODE\n",
        "        return ppl"
      ]
    },
    {
      "cell_type": "code",
      "execution_count": 36,
      "metadata": {
        "id": "UUJQKFZFm_zt"
      },
      "outputs": [],
      "source": [
        "num_epochs=10\n",
        "device = torch.device(\"cuda\" if torch.cuda.is_available() else \"cpu\")\n",
        "vocab_size = len(TEXT.vocab)\n",
        "criterion = nn.NLLLoss(reduction='mean')\n",
        "\n",
        "config = {\n",
        "    'vocab_size':vocab_size,\n",
        "    'emb_size':128,\n",
        "    'hidden_size':128,\n",
        "    'num_layer':1,\n",
        "    'bidirectional': False\n",
        "}\n",
        "\n",
        "LM = LangModel(config)\n",
        "LM = LM.to(device)"
      ]
    },
    {
      "cell_type": "code",
      "execution_count": 37,
      "metadata": {
        "id": "2z3RB-fmm_zt"
      },
      "outputs": [],
      "source": [
        "optimizer = optim.Adam(LM.parameters(), lr=1e-3, betas=(0.7, 0.99))"
      ]
    },
    {
      "cell_type": "code",
      "execution_count": 38,
      "metadata": {
        "colab": {
          "base_uri": "https://localhost:8080/"
        },
        "id": "gM8o0vJzm_zt",
        "outputId": "8f3be145-53e9-422b-d999-5c1f320c3d78"
      },
      "outputs": [
        {
          "output_type": "stream",
          "name": "stdout",
          "text": [
            "Epoch: 1, Training Loss: 6.0577, Validation Loss: 5.1698\n",
            "Epoch: 2, Training Loss: 5.3880, Validation Loss: 4.9414\n",
            "Epoch: 3, Training Loss: 5.1200, Validation Loss: 4.8541\n",
            "Epoch: 4, Training Loss: 4.9522, Validation Loss: 4.8108\n",
            "Epoch: 5, Training Loss: 4.8313, Validation Loss: 4.7831\n",
            "Epoch: 6, Training Loss: 4.7345, Validation Loss: 4.7646\n",
            "Epoch: 7, Training Loss: 4.6525, Validation Loss: 4.7527\n",
            "Epoch: 8, Training Loss: 4.5823, Validation Loss: 4.7468\n",
            "Epoch: 9, Training Loss: 4.5210, Validation Loss: 4.7446\n",
            "Epoch: 10, Training Loss: 4.4664, Validation Loss: 4.7461\n"
          ]
        }
      ],
      "source": [
        "train(LM, train_iter, valid_iter, vocab_size, criterion, optimizer, num_epochs)"
      ]
    },
    {
      "cell_type": "code",
      "source": [
        "with open('./model/LSTM_model.pt', 'wb') as f:\n",
        "  torch.save(LM.state_dict(), f)\n",
        "  print(\"Model saved\")"
      ],
      "metadata": {
        "colab": {
          "base_uri": "https://localhost:8080/"
        },
        "id": "CnkBAaoli1RD",
        "outputId": "70f41997-3f76-4fe4-a593-b62ad1ba9aa8"
      },
      "execution_count": 51,
      "outputs": [
        {
          "output_type": "stream",
          "name": "stdout",
          "text": [
            "Model saved\n"
          ]
        }
      ]
    },
    {
      "cell_type": "code",
      "execution_count": 40,
      "metadata": {
        "colab": {
          "base_uri": "https://localhost:8080/"
        },
        "id": "kr3rs_KDm_zu",
        "outputId": "c4f6f3e6-1632-4f9c-aee5-393853bdc925"
      },
      "outputs": [
        {
          "output_type": "execute_result",
          "data": {
            "text/plain": [
              "99.29450889854887"
            ]
          },
          "metadata": {},
          "execution_count": 40
        }
      ],
      "source": [
        "test(LM, vocab_size, criterion, test_iter)"
      ]
    },
    {
      "cell_type": "code",
      "execution_count": 41,
      "metadata": {
        "id": "poZdvJ7rm_zu"
      },
      "outputs": [],
      "source": [
        "config = {\n",
        "    'vocab_size':vocab_size,\n",
        "    'emb_size':128,\n",
        "    'hidden_size':128,\n",
        "    'num_layer':1,\n",
        "    'bidirectional': True\n",
        "}\n",
        "\n",
        "biLSTM = LangModel(config)\n",
        "biLSTM = biLSTM.to(device)\n",
        "\n",
        "biLSTM_optimizer = optim.Adam(biLSTM.parameters(), lr=1e-4, betas=(0.7, 0.99))"
      ]
    },
    {
      "cell_type": "code",
      "execution_count": 42,
      "metadata": {
        "colab": {
          "base_uri": "https://localhost:8080/"
        },
        "id": "9vsZVLqBm_zu",
        "outputId": "5454eabf-9899-4780-b14c-09d4e553d411"
      },
      "outputs": [
        {
          "output_type": "stream",
          "name": "stdout",
          "text": [
            "Epoch: 1, Training Loss: 6.3001, Validation Loss: 4.4504\n",
            "Epoch: 2, Training Loss: 4.4463, Validation Loss: 3.6178\n",
            "Epoch: 3, Training Loss: 3.7648, Validation Loss: 3.1029\n",
            "Epoch: 4, Training Loss: 3.2507, Validation Loss: 2.6631\n",
            "Epoch: 5, Training Loss: 2.7988, Validation Loss: 2.2787\n",
            "Epoch: 6, Training Loss: 2.4088, Validation Loss: 1.9577\n",
            "Epoch: 7, Training Loss: 2.0814, Validation Loss: 1.6955\n",
            "Epoch: 8, Training Loss: 1.8105, Validation Loss: 1.4843\n",
            "Epoch: 9, Training Loss: 1.5873, Validation Loss: 1.3136\n",
            "Epoch: 10, Training Loss: 1.4005, Validation Loss: 1.1746\n"
          ]
        }
      ],
      "source": [
        "train(biLSTM, train_iter, valid_iter, vocab_size, criterion, biLSTM_optimizer, num_epochs)"
      ]
    },
    {
      "cell_type": "code",
      "source": [
        "with open('./model/biLSTM_model.pt', 'wb') as f:\n",
        "  torch.save(biLSTM.state_dict(), f)\n",
        "  print(\"Model saved\")"
      ],
      "metadata": {
        "colab": {
          "base_uri": "https://localhost:8080/"
        },
        "id": "Ok4YTtu4jDvv",
        "outputId": "a0c348a9-bc65-4b1f-f634-3fe607aea22c"
      },
      "execution_count": 43,
      "outputs": [
        {
          "output_type": "stream",
          "name": "stdout",
          "text": [
            "Model saved\n"
          ]
        }
      ]
    },
    {
      "cell_type": "code",
      "execution_count": 44,
      "metadata": {
        "colab": {
          "base_uri": "https://localhost:8080/"
        },
        "id": "xJ6jTdt8m_zu",
        "outputId": "7a1dac57-ee53-40bd-c9ef-71907bffe5c5"
      },
      "outputs": [
        {
          "output_type": "execute_result",
          "data": {
            "text/plain": [
              "3.1091208393789365"
            ]
          },
          "metadata": {},
          "execution_count": 44
        }
      ],
      "source": [
        "test(biLSTM, vocab_size, criterion, test_iter)"
      ]
    },
    {
      "cell_type": "markdown",
      "metadata": {
        "id": "UCh5Jd3ym_zv"
      },
      "source": [
        "### Question 7 [code][written]\n",
        "<img src=\"./images/greedy.png\" alt=\"drawing\" style=\"width:500px;\"/>\n",
        "\n",
        "When we use trained language model to generate a sentence given a start token, we can choose ``greedy search``.\n",
        "\n",
        "As shown above, ``greedy search`` algorithm will pick the token which has the highest probability and feed it to the language model as input in the next time step. The model will generate ``max_len`` number of tokens at most.\n",
        "\n",
        "- Implement ``word_greedy_search``"
      ]
    },
    {
      "cell_type": "code",
      "execution_count": 45,
      "metadata": {
        "id": "SROvn3NZm_zv"
      },
      "outputs": [],
      "source": [
        "def word_greedy_search(model, start_token, max_len): \n",
        "    ''' \n",
        "    param: \n",
        "        model: nn.Module --- language model \n",
        "        start_token: str --- e.g. 'he' \n",
        "        max_len: int --- max number of tokens generated \n",
        "    return: \n",
        "        strings: list[str] --- list of tokens, e.g., ['he', 'was', 'a', 'member', 'of',...] \n",
        "    ''' \n",
        "    model.eval() \n",
        "    ID = TEXT.vocab.stoi[start_token] \n",
        "    strings = [start_token] \n",
        "    hidden = None \n",
        " \n",
        "    ### You may find TEXT.vocab.itos useful. \n",
        "    ### YOUR CODE HERE \n",
        "\n",
        "    predicts = torch.ones(1, 1).long().to(device) * ID\n",
        "    for _ in range(max_len):\n",
        "        out, _ = model(predicts, hidden)\n",
        "        predicts = torch.argmax(out[-1,:,:], dim=-1)\n",
        "        strings.append(TEXT.vocab.itos[predicts.cpu().numpy()[0]])\n",
        "        if strings[-1] == '<eos>': \n",
        "          break\n",
        "        predicts.unsqueeze_(0)\n",
        "\n",
        "    ### END OF YOUR CODE \n",
        "    print(strings)"
      ]
    },
    {
      "cell_type": "markdown",
      "source": [
        "To read the trained parameters"
      ],
      "metadata": {
        "id": "oNyPKNSCYKDg"
      }
    },
    {
      "cell_type": "code",
      "source": [
        "#LM.load_state_dict(torch.load(\"model/LSTM_model.pt\",map_location = torch.device('cpu')))\n",
        "#biLSTM.load_state_dict(torch.load(\"model/biLSTM_model.pt\",map_location = torch.device('cpu')))"
      ],
      "metadata": {
        "id": "jbiMypFdjXkD"
      },
      "execution_count": 46,
      "outputs": []
    },
    {
      "cell_type": "code",
      "execution_count": 47,
      "metadata": {
        "colab": {
          "base_uri": "https://localhost:8080/"
        },
        "id": "ipX4DgPjm_zv",
        "outputId": "163d3d8d-9a6a-4bd5-b4c6-5bf15684e695"
      },
      "outputs": [
        {
          "output_type": "stream",
          "name": "stdout",
          "text": [
            "['he', 'was', 'the', 'first', 'time', '.', '<eos>']\n"
          ]
        }
      ],
      "source": [
        "word_greedy_search(LM, 'he', 64)"
      ]
    },
    {
      "cell_type": "markdown",
      "metadata": {
        "id": "T1vN9uzxm_zv"
      },
      "source": [
        "#### Review Question: Based on your understanding, can we use the **Bidirectional LSTM** for this language generation (decoding) task? Explain why?"
      ]
    },
    {
      "cell_type": "markdown",
      "metadata": {
        "id": "kGEDAJcLm_zv"
      },
      "source": [
        "**write your explanation:**    \n",
        "No we cannot. Bi-LSTM consists of two layers of LSTM, hence its hidden state would consists of both the trained parameters from two LSTM. However, this tasks only proceed in thew forward direction as we start from a start token, then generate the sentence after the token."
      ]
    },
    {
      "cell_type": "markdown",
      "metadata": {
        "id": "cknDdEjIm_zw"
      },
      "source": [
        "### Question 8 [code][written]\n",
        "- We will use the hidden vectors (the working memory) of LSTM as the contextual embeddings. Implement ``contextual_embedding`` function.\n",
        "- Use the ``contextual_embedding`` function to get the contextual embeddings of the word \"sink\" in four sequences \"wood does not sink in water\", \"a small water leak will sink the ship\", \"there are plates in the kitchen sink\" and \"the kitchen sink was full of dirty dishes\". Then calculate the cosine similarity of \"sink\" from each pair of sequences. Assume that $\\boldsymbol{w}_1$ and $\\boldsymbol{w}_2$ are embeddings of \"sink\" in sequences \"wood does not sink in water\" and \"a small water leak will sink the ship\" respectively. The cosine similarity can be calculated as \n",
        "\n",
        "\\begin{align}\n",
        "similarity = cos(\\theta) = \\frac{\\boldsymbol{w}^{\\rm T}_1\\boldsymbol{w}_2}{||\\boldsymbol{w}_1||_2||\\boldsymbol{w}_2||_2}\n",
        "\\end{align}\n",
        "Give the explanation of the results. "
      ]
    },
    {
      "cell_type": "code",
      "execution_count": 48,
      "metadata": {
        "id": "QT7W0H1Fm_zw"
      },
      "outputs": [],
      "source": [
        "def contextual_embedding(model, sentence):\n",
        "    '''\n",
        "    params: \n",
        "        model: nn.Module --- language model\n",
        "        sentence -- list[str]: list of tokens, e.g., ['I', 'am',...]\n",
        "    return:\n",
        "        embeddings -- numpy array of shape (length of sentence, word embedding size)\n",
        "    '''\n",
        "    model.eval()\n",
        "    hidden = None\n",
        "    \n",
        "    ### YOUR CODE HERE\n",
        "\n",
        "    temp = sentence.split(\" \")\n",
        "    target = temp.index(\"sink\")\n",
        "    sentence = temp[:target] + [\"sink\"]\n",
        "\n",
        "    ID = []\n",
        "    for t in sentence:\n",
        "      ID.append(TEXT.vocab.stoi[t])\n",
        "\n",
        "    word = torch.LongTensor([ID]).to(device)\n",
        "    _, embed = model(word)\n",
        "\n",
        "    output = embed[-1].cpu().detach().numpy()\n",
        "    embeddings = output[0]\n",
        "    \n",
        "    ### END OF YOUR CODE\n",
        "    return embeddings"
      ]
    },
    {
      "cell_type": "code",
      "source": [
        "def cosine_sim(w1, w2):\n",
        "  w1 = np.mean(w1, 0)\n",
        "  w2 = np.mean(w2, 0)\n",
        "  return np.dot(w1, w2) / (np.linalg.norm(w1) * np.linalg.norm(w2))"
      ],
      "metadata": {
        "id": "bP-odT97iYBX"
      },
      "execution_count": 49,
      "outputs": []
    },
    {
      "cell_type": "code",
      "execution_count": 50,
      "metadata": {
        "colab": {
          "base_uri": "https://localhost:8080/"
        },
        "id": "1zt4hKxom_zw",
        "outputId": "8bc542b4-8743-493b-a130-1ff553b5c585"
      },
      "outputs": [
        {
          "output_type": "stream",
          "name": "stdout",
          "text": [
            "1 and 2:\t 0.64669484\n",
            "2 and 3:\t 0.6001737\n",
            "3 and 4:\t 0.7029462\n",
            "1 and 3:\t 0.63270664\n",
            "2 and 4:\t 0.6446002\n",
            "1 and 4:\t 0.57950085\n"
          ]
        }
      ],
      "source": [
        "sink_seq1 = \"wood does not sink in water\"\n",
        "sink_seq2 = \"a small water leak will sink the ship\"\n",
        "sink_seq3 = \"there are plates in the kitchen sink\"\n",
        "sink_seq4 = \"the kitchen sink was full of dirty dishes\"\n",
        "\n",
        "### YOUR CODE HERE \n",
        "\n",
        "embed_1 = contextual_embedding(LM, sink_seq1)\n",
        "embed_2 = contextual_embedding(LM, sink_seq2)\n",
        "embed_3 = contextual_embedding(LM, sink_seq3)\n",
        "embed_4 = contextual_embedding(LM, sink_seq4)\n",
        "\n",
        "print(\"1 and 2:\\t\", cosine_sim(embed_1, embed_2))\n",
        "print(\"2 and 3:\\t\", cosine_sim(embed_2, embed_3))\n",
        "print(\"3 and 4:\\t\", cosine_sim(embed_3, embed_4))\n",
        "print(\"1 and 3:\\t\", cosine_sim(embed_1, embed_3))\n",
        "print(\"2 and 4:\\t\", cosine_sim(embed_2, embed_4))\n",
        "print(\"1 and 4:\\t\", cosine_sim(embed_1, embed_4))\n",
        "\n",
        "### END OF YOUR CODE"
      ]
    },
    {
      "cell_type": "markdown",
      "metadata": {
        "id": "XtdIngNIm_zw"
      },
      "source": [
        "***write your explanation:***    \n",
        "The cosine similarities between the pair 3 and 4 are the highest. The reason for this could be that the word `sink` in both sentences is noun. Whereas the similarity between 2 and 3 are the lowest, as the word `sink` in sequence 2 is a verb, indicating an action while in sequence 3, the word `sink` is a noun."
      ]
    },
    {
      "cell_type": "markdown",
      "metadata": {
        "id": "0WNf-wG4m_zx"
      },
      "source": [
        "#### Review Question: Based on your understanding, can we use the **Bidirectional LSTM** for this contextual embedding task? Explain why?"
      ]
    },
    {
      "cell_type": "markdown",
      "metadata": {
        "id": "DgqBGRZrm_zx"
      },
      "source": [
        "**write your explanation:**    \n",
        "Yes, we can, but certain changes are needed. The sequence is truncated to be stopped at the word `sink`(e.g. ['wood', 'does', 'not', 'sink'] for sequence 1) However, in the case of biLSTM, we need to make use of the sequence after the word `sink` to obtain the hidden state in the backward direction. By combining the forward and backward hidden state, generated by the sequence before and after the word `sink` respectively, we can get a better embedding."
      ]
    },
    {
      "cell_type": "markdown",
      "metadata": {
        "id": "cernoBq6CdX9"
      },
      "source": [
        "### Requirements:\n",
        "- This is an individual report.\n",
        "- Complete the code using Python.\n",
        "- List students with whom you have discussed if there are any.\n",
        "- Follow the honor code strictly."
      ]
    },
    {
      "cell_type": "markdown",
      "metadata": {
        "id": "bDOUuC7-CdX-"
      },
      "source": [
        "### Free GPU Resources\n",
        "We suggest that you run neural language models on machines with GPU(s). Google provides the free online platform [Colaboratory](https://colab.research.google.com/notebooks/welcome.ipynb), a research tool for machine learning education and research. It’s a Jupyter notebook environment that requires no setup to use as common packages have been  pre-installed. Google users can have access to a Tesla T4 GPU (approximately 15G memory). Note that when you connect to a GPU-based VM runtime, you are given a maximum of 12 hours at a time on the VM.\n",
        "\n",
        "It is convenient to upload local Jupyter Notebook files and data to Colab, please refer to the [tutorial](https://colab.research.google.com/notebooks/io.ipynb). \n",
        "\n",
        "In addition, Microsoft also provides the online platform [Azure Notebooks](https://notebooks.azure.com/help/introduction) for research of data science and machine learning, there are free trials for new users with credits."
      ]
    }
  ],
  "metadata": {
    "colab": {
      "name": "mini_project.ipynb",
      "provenance": [],
      "collapsed_sections": []
    },
    "kernelspec": {
      "display_name": "Python 3",
      "name": "python3"
    },
    "language_info": {
      "name": "python"
    },
    "accelerator": "GPU",
    "gpuClass": "standard"
  },
  "nbformat": 4,
  "nbformat_minor": 0
}